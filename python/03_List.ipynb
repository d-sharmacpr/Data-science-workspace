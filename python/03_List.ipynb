{
 "cells": [
  {
   "cell_type": "markdown",
   "id": "894678ca",
   "metadata": {},
   "source": [
    "# List"
   ]
  },
  {
   "cell_type": "raw",
   "id": "6dbaa069",
   "metadata": {},
   "source": [
    "It can stroe heterogeneous object\n",
    "duplicates objects are allow\n",
    "List object are mutable, we can change the content"
   ]
  },
  {
   "cell_type": "code",
   "execution_count": 3,
   "id": "962b31ac",
   "metadata": {},
   "outputs": [
    {
     "name": "stdout",
     "output_type": "stream",
     "text": [
      "Enter list:-['a','b','c']\n",
      "['a', 'b', 'c']\n",
      "[100, 101, 102, 103, 104, 105, 106, 107, 108, 109]\n",
      "['d', 'kumar', 'sharma']\n"
     ]
    },
    {
     "data": {
      "text/plain": [
       "list"
      ]
     },
     "execution_count": 3,
     "metadata": {},
     "output_type": "execute_result"
    }
   ],
   "source": [
    "#how to crate list object\n",
    "\n",
    "list1= eval(input('Enter list:-'))\n",
    "print(list1)\n",
    "\n",
    "l1= list(range(100,110,1))\n",
    "print(l1)\n",
    "type(l1)\n",
    "\n",
    "s = \"d kumar sharma\"\n",
    "l = s.split()\n",
    "print(l)\n",
    "type(l)"
   ]
  },
  {
   "cell_type": "code",
   "execution_count": 2,
   "id": "8a6a7996",
   "metadata": {},
   "outputs": [
    {
     "name": "stdout",
     "output_type": "stream",
     "text": [
      "[0, 1, 2, 3, 4, 5, 6, 7, 8, 9]\n",
      "[range(0, 12)]\n",
      "<class 'list'>\n"
     ]
    }
   ],
   "source": [
    "l=[*range(0,10)]\n",
    "print(l)\n",
    "\n",
    "l2 = [range(0,12)]\n",
    "print(l2)\n",
    "print(type(l2))"
   ]
  },
  {
   "cell_type": "markdown",
   "id": "06182f00",
   "metadata": {},
   "source": [
    "# Accessing elements of List"
   ]
  },
  {
   "cell_type": "code",
   "execution_count": 17,
   "id": "e0464303",
   "metadata": {},
   "outputs": [
    {
     "name": "stdout",
     "output_type": "stream",
     "text": [
      "123\n",
      "e\n",
      "slice\n",
      "['123']\n",
      "['e']\n",
      "---\n",
      "a\n",
      "b\n",
      "c\n",
      "d\n",
      "123\n",
      "e\n"
     ]
    }
   ],
   "source": [
    "#1. by using index\n",
    "#2. by using slice operator\n",
    "\n",
    "l1= ['a','b','c','d','123','e']\n",
    "print(l1[4])\n",
    "print(l1[-1])\n",
    "\n",
    "# list2 = list1[start:stop:step]\n",
    "print('slice')\n",
    "print(l1[4:5:])\n",
    "print(l1[-1:-2:-1])\n",
    "\n",
    "print('---')\n",
    "i=0\n",
    "while i<len(l1):\n",
    "    print(l1[i])\n",
    "    i = i+1\n",
    "    "
   ]
  },
  {
   "cell_type": "markdown",
   "id": "e6bd4120",
   "metadata": {},
   "source": [
    "List of Functions"
   ]
  },
  {
   "cell_type": "code",
   "execution_count": null,
   "id": "ab064645",
   "metadata": {},
   "outputs": [],
   "source": []
  }
 ],
 "metadata": {
  "kernelspec": {
   "display_name": "Python 3 (ipykernel)",
   "language": "python",
   "name": "python3"
  },
  "language_info": {
   "codemirror_mode": {
    "name": "ipython",
    "version": 3
   },
   "file_extension": ".py",
   "mimetype": "text/x-python",
   "name": "python",
   "nbconvert_exporter": "python",
   "pygments_lexer": "ipython3",
   "version": "3.10.0"
  }
 },
 "nbformat": 4,
 "nbformat_minor": 5
}
