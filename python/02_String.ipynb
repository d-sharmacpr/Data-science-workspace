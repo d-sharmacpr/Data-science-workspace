{
 "cells": [
  {
   "cell_type": "markdown",
   "id": "4df6a0dd",
   "metadata": {},
   "source": [
    "# String"
   ]
  },
  {
   "cell_type": "markdown",
   "id": "cdb1059e",
   "metadata": {},
   "source": [
    "we can access character of string using the :\n",
    "    1. By using index\n",
    "    2. By using slice\n",
    "    "
   ]
  },
  {
   "cell_type": "markdown",
   "id": "995bbc3e",
   "metadata": {},
   "source": [
    "# 1. By Using index"
   ]
  },
  {
   "cell_type": "code",
   "execution_count": 2,
   "id": "25adc67e",
   "metadata": {},
   "outputs": [
    {
     "data": {
      "text/plain": [
       "'d'"
      ]
     },
     "execution_count": 2,
     "metadata": {},
     "output_type": "execute_result"
    }
   ],
   "source": [
    "# It supports both +ve(forward) and -ve(backward) index\n",
    "s= 'dharmendra kr sharma'\n",
    "s[0]"
   ]
  },
  {
   "cell_type": "code",
   "execution_count": 5,
   "id": "cd0eb1bd",
   "metadata": {},
   "outputs": [
    {
     "data": {
      "text/plain": [
       "'a'"
      ]
     },
     "execution_count": 5,
     "metadata": {},
     "output_type": "execute_result"
    }
   ],
   "source": [
    "s[-1]\n",
    "# s[34] index out of range"
   ]
  },
  {
   "cell_type": "code",
   "execution_count": 6,
   "id": "a60c48f8",
   "metadata": {},
   "outputs": [
    {
     "name": "stdout",
     "output_type": "stream",
     "text": [
      "Enter String:dharmendra\n",
      "Character: d and -ve index--10 , +ve index0\n",
      "Character: h and -ve index--9 , +ve index1\n",
      "Character: a and -ve index--8 , +ve index2\n",
      "Character: r and -ve index--7 , +ve index3\n",
      "Character: m and -ve index--6 , +ve index4\n",
      "Character: e and -ve index--5 , +ve index5\n",
      "Character: n and -ve index--4 , +ve index6\n",
      "Character: d and -ve index--3 , +ve index7\n",
      "Character: r and -ve index--2 , +ve index8\n",
      "Character: a and -ve index--1 , +ve index9\n"
     ]
    }
   ],
   "source": [
    "# Program to print string character by index wise(+ve & -ve dir)\n",
    "# Note: Negative index starts from -1 and positive index start from 0\n",
    "\n",
    "s = input('Enter String:')\n",
    "i=0\n",
    "for ch in s:\n",
    "    print('Character: {} and -ve index-{} , +ve index{}'.format(ch,i-len(s),i))\n",
    "    i = i+1"
   ]
  },
  {
   "cell_type": "markdown",
   "id": "8bd55465",
   "metadata": {},
   "source": [
    "# 2. By slice operator"
   ]
  },
  {
   "cell_type": "code",
   "execution_count": 8,
   "id": "d4dc112c",
   "metadata": {},
   "outputs": [
    {
     "data": {
      "text/plain": [
       "'Hello'"
      ]
     },
     "execution_count": 8,
     "metadata": {},
     "output_type": "execute_result"
    }
   ],
   "source": [
    "# s[start-index,end_index(last-1),steps]\n",
    "\n",
    "s = 'Hello welcome to the Java World'\n",
    "s[0:5:] # By default steps are 1"
   ]
  },
  {
   "cell_type": "code",
   "execution_count": 10,
   "id": "546e886b",
   "metadata": {},
   "outputs": [
    {
     "data": {
      "text/plain": [
       "'Hlo'"
      ]
     },
     "execution_count": 10,
     "metadata": {},
     "output_type": "execute_result"
    }
   ],
   "source": [
    "s[:5:2] # By default start index is 0"
   ]
  },
  {
   "cell_type": "code",
   "execution_count": 11,
   "id": "f1aecf53",
   "metadata": {},
   "outputs": [
    {
     "data": {
      "text/plain": [
       "'Hello welcome to the Java World'"
      ]
     },
     "execution_count": 11,
     "metadata": {},
     "output_type": "execute_result"
    }
   ],
   "source": [
    "s[::] #By default end_index is last of the character"
   ]
  },
  {
   "cell_type": "code",
   "execution_count": 19,
   "id": "a3cbef62",
   "metadata": {},
   "outputs": [
    {
     "data": {
      "text/plain": [
       "'dlroW avaJ eht ot em'"
      ]
     },
     "execution_count": 19,
     "metadata": {},
     "output_type": "execute_result"
    }
   ],
   "source": [
    "# Forward Direction\n",
    "s[-1:10:-1]"
   ]
  },
  {
   "cell_type": "code",
   "execution_count": 22,
   "id": "0715bdcd",
   "metadata": {},
   "outputs": [
    {
     "name": "stdout",
     "output_type": "stream",
     "text": [
      "dk sharma\n",
      "dk dk dk dk dk dk dk dk dk dk \n"
     ]
    }
   ],
   "source": [
    "# Operators \n",
    "#+   for concatenation\n",
    "#*   for repetition\n",
    "\n",
    "print('dk'+' sharma')\n",
    "print('dk '*10)"
   ]
  },
  {
   "cell_type": "code",
   "execution_count": 24,
   "id": "5500b531",
   "metadata": {},
   "outputs": [
    {
     "name": "stdout",
     "output_type": "stream",
     "text": [
      "False\n",
      "True\n"
     ]
    }
   ],
   "source": [
    "### Checking membership ( in )\n",
    "\n",
    "s = 'dharmendra'\n",
    "print('s' in s)\n",
    "print('a' in s)"
   ]
  },
  {
   "cell_type": "code",
   "execution_count": 27,
   "id": "196f35b3",
   "metadata": {},
   "outputs": [
    {
     "name": "stdout",
     "output_type": "stream",
     "text": [
      "False\n",
      "False\n",
      "False\n",
      "True\n"
     ]
    }
   ],
   "source": [
    "#### comparison of string ( <,>,>=,<=, ==,!=)\n",
    "\n",
    "s1 = 'Hi'\n",
    "s2 = 'Hello'\n",
    "s3 = 'hi'\n",
    "\n",
    "print(s1==s2)\n",
    "print(s1==s3)\n",
    "print(s1>s3)\n",
    "print(s3>s1)\n",
    "\n",
    "#Note Here comparison performs bassed on the alhabetical order."
   ]
  },
  {
   "cell_type": "code",
   "execution_count": 29,
   "id": "9f58d359",
   "metadata": {},
   "outputs": [
    {
     "ename": "NameError",
     "evalue": "name 's' is not defined",
     "output_type": "error",
     "traceback": [
      "\u001b[1;31m---------------------------------------------------------------------------\u001b[0m",
      "\u001b[1;31mNameError\u001b[0m                                 Traceback (most recent call last)",
      "\u001b[1;32m~\\AppData\\Local\\Temp/ipykernel_4956/513567072.py\u001b[0m in \u001b[0;36m<module>\u001b[1;34m\u001b[0m\n\u001b[0;32m      3\u001b[0m \u001b[0ms\u001b[0m\u001b[1;33m=\u001b[0m\u001b[1;34m'Hello'\u001b[0m\u001b[1;33m\u001b[0m\u001b[1;33m\u001b[0m\u001b[0m\n\u001b[0;32m      4\u001b[0m \u001b[1;32mdel\u001b[0m \u001b[0ms\u001b[0m\u001b[1;33m\u001b[0m\u001b[1;33m\u001b[0m\u001b[0m\n\u001b[1;32m----> 5\u001b[1;33m \u001b[0mprint\u001b[0m\u001b[1;33m(\u001b[0m\u001b[0ms\u001b[0m\u001b[1;33m)\u001b[0m\u001b[1;33m\u001b[0m\u001b[1;33m\u001b[0m\u001b[0m\n\u001b[0m",
      "\u001b[1;31mNameError\u001b[0m: name 's' is not defined"
     ]
    }
   ],
   "source": [
    "## del (to delete the string object)\n",
    "\n",
    "s='Hello'\n",
    "del s\n",
    "print(s)"
   ]
  },
  {
   "cell_type": "markdown",
   "id": "12d3b6b1",
   "metadata": {},
   "source": [
    "# in-built function"
   ]
  },
  {
   "cell_type": "code",
   "execution_count": 28,
   "id": "014aaf5d",
   "metadata": {},
   "outputs": [
    {
     "ename": "SyntaxError",
     "evalue": "invalid syntax. Perhaps you forgot a comma? (Temp/ipykernel_4956/1434895503.py, line 4)",
     "output_type": "error",
     "traceback": [
      "\u001b[1;36m  File \u001b[1;32m\"C:\\Users\\dshar\\AppData\\Local\\Temp/ipykernel_4956/1434895503.py\"\u001b[1;36m, line \u001b[1;32m4\u001b[0m\n\u001b[1;33m    1. rstip() -- to remove spaces at right side\u001b[0m\n\u001b[1;37m    ^\u001b[0m\n\u001b[1;31mSyntaxError\u001b[0m\u001b[1;31m:\u001b[0m invalid syntax. Perhaps you forgot a comma?\n"
     ]
    }
   ],
   "source": [
    "len()\n",
    "\n",
    "# removing spaces from the string\n",
    "1. .rstrip() -- to remove spaces at right side\n",
    "2. .lstrip() -- to romove spaces at left side\n",
    "3. .strip() -- both sides\n",
    "\n",
    "# finding substrings\n",
    "1. .find()\n",
    "2. .index()\n",
    "3. .rfind()  -- reverse dir\n",
    "4. .rindex() -- reverse dir\n",
    "\n",
    "# replace a string\n",
    "1. .replace(oldstring,newstring) -- #we can't change the existing string object\n",
    "\n",
    "# split of the string\n",
    "1. .split(seperator) # default sep is space\n",
    "\n",
    "# joing of the string\n",
    "1. seperator.join(group of string) # group of string - list or tuple\n",
    "\n",
    "# changing case of string\n",
    "1. upper()\n",
    "2. lower()\n",
    "3. swapcase() # upper to lower and lower to upper\n",
    "4. title()\n",
    "5. capitalize()\n",
    "\n",
    "# checking index\n",
    "1. .startwith(substring)\n",
    "2. .endwith(substring)\n",
    "\n",
    "# check type of characater in a string\n",
    "these funcitons return True or False\n",
    "1. isalnum()\n",
    "2. isalpha()\n",
    "3. isdigit()\n",
    "4. islower()\n",
    "5. isupper()\n",
    "6. istitle()\n",
    "7. isspace()\n",
    "8. isidentifier()\n",
    "\n",
    "zfill()"
   ]
  },
  {
   "cell_type": "code",
   "execution_count": 70,
   "id": "00240361",
   "metadata": {},
   "outputs": [
    {
     "name": "stdout",
     "output_type": "stream",
     "text": [
      " d   Kumar S is not len- 19\n",
      "d   Kumar S is not len- 19\n",
      "-----\n",
      "13\n",
      "13\n",
      "13\n",
      "13\n",
      "--------\n",
      " d   Kumar Sharma is not\n",
      "['d', 'Kumar', 'S', 'is', 'not']\n",
      "ram-shyam\n",
      " d   kumar s is not\n",
      " D   kUMAR s IS NOT\n",
      "index check\n",
      "True\n",
      "False\n",
      "----\n",
      "True\n"
     ]
    }
   ],
   "source": [
    "##Example\n",
    "s =' d   Kumar S is not'\n",
    "print(s,'len-',len(s))\n",
    "print(s.lstrip(),'len-',len(s))\n",
    "\n",
    "print('-----')\n",
    "print(s.find('is'))\n",
    "print(s.rfind('is'))\n",
    "print(s.rindex('is'))\n",
    "print(s.index('is'))\n",
    "\n",
    "print('--------')\n",
    "s2 = s.replace('S','Sharma')\n",
    "print(s2)\n",
    "\n",
    "print(s.split())\n",
    "\n",
    "s2 = '-'.join(['ram','shyam'])\n",
    "print(s2)\n",
    "\n",
    "print(s.capitalize())\n",
    "print(s.swapcase())\n",
    "\n",
    "print('index check')\n",
    "st ='Hello How are you?'\n",
    "print(st.startswith('He'))\n",
    "print(st.endswith(' '))\n",
    "\n",
    "print('----')\n",
    "print('Hello76'.isalnum())"
   ]
  },
  {
   "cell_type": "code",
   "execution_count": 80,
   "id": "ce2e2dc8",
   "metadata": {},
   "outputs": [
    {
     "name": "stdout",
     "output_type": "stream",
     "text": [
      "01234\n",
      "00001\n",
      "00034\n",
      "00987\n"
     ]
    }
   ],
   "source": [
    "s='1234'\n",
    "s2 = s.zfill(5)\n",
    "print(s2)\n",
    "\n",
    "s2 = ['1','34','987']\n",
    "for s in s2:\n",
    "    print(s.zfill(5))"
   ]
  },
  {
   "cell_type": "markdown",
   "id": "99890060",
   "metadata": {},
   "source": [
    "# Hands on"
   ]
  },
  {
   "cell_type": "code",
   "execution_count": 76,
   "id": "f6364e11",
   "metadata": {},
   "outputs": [
    {
     "name": "stdout",
     "output_type": "stream",
     "text": [
      "Enter string:Sharma jee\n",
      "Reverse: eej amrahS\n",
      "<reversed object at 0x00000274174AFE50>\n",
      "eej amrahS\n",
      "eej amrahS\n"
     ]
    }
   ],
   "source": [
    "# Program to revers the string\n",
    "\n",
    "s = input('Enter string:')\n",
    "print('Reverse:',s[::-1])\n",
    "print(reversed(s))  ## return reverse object\n",
    "print(''.join(reversed(s)))\n",
    "\n",
    "i = len(s)-1\n",
    "target =''\n",
    "while i>=0:\n",
    "    target = target+s[i]\n",
    "    i=i-1\n",
    "print(target)"
   ]
  },
  {
   "cell_type": "code",
   "execution_count": null,
   "id": "f5d60791",
   "metadata": {},
   "outputs": [],
   "source": [
    "# program to reverse order of words\n"
   ]
  }
 ],
 "metadata": {
  "kernelspec": {
   "display_name": "Python 3 (ipykernel)",
   "language": "python",
   "name": "python3"
  },
  "language_info": {
   "codemirror_mode": {
    "name": "ipython",
    "version": 3
   },
   "file_extension": ".py",
   "mimetype": "text/x-python",
   "name": "python",
   "nbconvert_exporter": "python",
   "pygments_lexer": "ipython3",
   "version": "3.10.0"
  }
 },
 "nbformat": 4,
 "nbformat_minor": 5
}
