{
 "cells": [
  {
   "cell_type": "markdown",
   "id": "d87e3174",
   "metadata": {},
   "source": [
    "### Lambda Function"
   ]
  },
  {
   "cell_type": "code",
   "execution_count": 3,
   "id": "331a18ac",
   "metadata": {},
   "outputs": [
    {
     "name": "stdout",
     "output_type": "stream",
     "text": [
      "C:\\Users\\dshar\\Desktop\\workspace\\Data-science-workspace\\python\n"
     ]
    },
    {
     "ename": "ModuleNotFoundError",
     "evalue": "No module named 'skimage'",
     "output_type": "error",
     "traceback": [
      "\u001b[1;31m---------------------------------------------------------------------------\u001b[0m",
      "\u001b[1;31mModuleNotFoundError\u001b[0m                       Traceback (most recent call last)",
      "\u001b[1;32m~\\AppData\\Local\\Temp/ipykernel_15428/3921037615.py\u001b[0m in \u001b[0;36m<module>\u001b[1;34m\u001b[0m\n\u001b[0;32m      3\u001b[0m \u001b[0mprint\u001b[0m\u001b[1;33m(\u001b[0m\u001b[0mcwd\u001b[0m\u001b[1;33m)\u001b[0m\u001b[1;33m\u001b[0m\u001b[1;33m\u001b[0m\u001b[0m\n\u001b[0;32m      4\u001b[0m \u001b[1;33m\u001b[0m\u001b[0m\n\u001b[1;32m----> 5\u001b[1;33m \u001b[1;32mfrom\u001b[0m \u001b[0mskimage\u001b[0m \u001b[1;32mimport\u001b[0m \u001b[0mio\u001b[0m\u001b[1;33m\u001b[0m\u001b[1;33m\u001b[0m\u001b[0m\n\u001b[0m\u001b[0;32m      6\u001b[0m \u001b[0mimg\u001b[0m \u001b[1;33m=\u001b[0m \u001b[0mio\u001b[0m\u001b[1;33m.\u001b[0m\u001b[0mimread\u001b[0m\u001b[1;33m(\u001b[0m\u001b[1;34m'lambda.png'\u001b[0m\u001b[1;33m)\u001b[0m\u001b[1;33m\u001b[0m\u001b[1;33m\u001b[0m\u001b[0m\n\u001b[0;32m      7\u001b[0m \u001b[0mio\u001b[0m\u001b[1;33m.\u001b[0m\u001b[0mimshow\u001b[0m\u001b[1;33m(\u001b[0m\u001b[0mimg\u001b[0m\u001b[1;33m)\u001b[0m\u001b[1;33m\u001b[0m\u001b[1;33m\u001b[0m\u001b[0m\n",
      "\u001b[1;31mModuleNotFoundError\u001b[0m: No module named 'skimage'"
     ]
    }
   ],
   "source": [
    "import os\n",
    "cwd = os.getcwd()\n",
    "print(cwd)\n",
    "\n",
    "from skimage import io\n",
    "img = io.imread('lambda.png')\n",
    "io.imshow(img)"
   ]
  },
  {
   "cell_type": "code",
   "execution_count": null,
   "id": "968a35a9",
   "metadata": {},
   "outputs": [],
   "source": [
    "# Lambda Function internally returns expression value and we are not required to write\n",
    "# return statement explicitly.\n",
    "\n",
    "# Note: Sometimes we can pass function as argument to another function. In such cases\n",
    "# lambda functions are best choice.\n",
    "\n",
    "# We can use lambda functions very commonly with filter(),map() and reduce() functions,b'z\n",
    "# these functions expect function as argument."
   ]
  },
  {
   "cell_type": "code",
   "execution_count": 11,
   "id": "a73fb6f4",
   "metadata": {},
   "outputs": [
    {
     "name": "stdout",
     "output_type": "stream",
     "text": [
      "Sum of two number 30\n",
      "Sum of two number  30\n",
      "Big Numebr:  10\n"
     ]
    }
   ],
   "source": [
    "def sum(a,b):\n",
    "    return a+b\n",
    "\n",
    "print('Sum of two number',sum(10,20))\n",
    "\n",
    "#using lambda\n",
    "sum =lambda a,b:a+b\n",
    "print('Sum of two number ',sum(10,20))\n",
    "\n",
    "# Find bigest number using lambda\n",
    "bigNumber = lambda a,b:a if a>b else b\n",
    "print('Big Numebr: ',bigNumber(10,00))"
   ]
  },
  {
   "cell_type": "markdown",
   "id": "3260dd84",
   "metadata": {},
   "source": [
    "### filter()"
   ]
  },
  {
   "cell_type": "code",
   "execution_count": 12,
   "id": "250d3ec3",
   "metadata": {},
   "outputs": [],
   "source": [
    "# we can use filter() function to filter values from the given sequece based on the some condition\n",
    "\n",
    "# \"filter(function,sequence)\"\n",
    "        # function- It is reponsible to perform condition\n",
    "        # sequence- it can be list,tuple or string\n"
   ]
  },
  {
   "cell_type": "code",
   "execution_count": 10,
   "id": "1a523de0",
   "metadata": {},
   "outputs": [
    {
     "name": "stdout",
     "output_type": "stream",
     "text": [
      "[10, 12, 14]\n",
      "<filter object at 0x0000022B4CA34D90>\n",
      "---\n",
      "[10, 12, 14]\n"
     ]
    }
   ],
   "source": [
    "# Program to find even number from the list\n",
    "l = [10,11,12,13,14,15,35,67]\n",
    "\n",
    "#without lambda\n",
    "def findEven(lis):\n",
    "#     for l in list:\n",
    "    if lis%2==0:\n",
    "        return True\n",
    "    else:\n",
    "        return False\n",
    "\n",
    "l1 =list(filter(findEven,l))\n",
    "print(l1)\n",
    "print(filter(findEven,l))\n",
    "# print(findEven(l))  #TypeError: unsupported operand type(s) for %: 'list' and 'int'\n",
    "\n",
    "print('---')\n",
    "## Using Lambda function\n",
    "print(list(filter(lambda l:l%2==0 ,l)))"
   ]
  },
  {
   "cell_type": "markdown",
   "id": "413ad3cc",
   "metadata": {},
   "source": [
    "### Map"
   ]
  },
  {
   "cell_type": "code",
   "execution_count": null,
   "id": "00ffe082",
   "metadata": {},
   "outputs": [],
   "source": [
    "# For every element present in the given sequence, apply some functionality and generate new element with the required modification\n",
    "# For this requirement we should go for map() function\n",
    "\n",
    "# \" map(function, sequence) \"\n",
    "\n",
    "#* The function can be applied on each element of sequence and generates new sequence.\n",
    "\n"
   ]
  },
  {
   "cell_type": "code",
   "execution_count": 13,
   "id": "587f4e5c",
   "metadata": {},
   "outputs": [
    {
     "name": "stdout",
     "output_type": "stream",
     "text": [
      "[100, 441, 961, 1681, 2601]\n",
      "<map object at 0x0000022B4CA35C00>\n",
      "[10, 21, 31, 41, 51]\n"
     ]
    }
   ],
   "source": [
    "#sequre of the each element\n",
    "l = [10,21,31,41,51]\n",
    "\n",
    "#using without lambda\n",
    "def sq(x):\n",
    "    return x*x\n",
    "\n",
    "l1 = list(map(sq,l))\n",
    "print(l1)\n",
    "print(map(sq,l))\n",
    "\n",
    "#using with lambda\n",
    "l2 = list(map(lambda l:l*l,l))\n",
    "print(l)"
   ]
  },
  {
   "cell_type": "markdown",
   "id": "e2e3f7d7",
   "metadata": {},
   "source": [
    "### reduce"
   ]
  },
  {
   "cell_type": "code",
   "execution_count": null,
   "id": "c21dacf6",
   "metadata": {},
   "outputs": [],
   "source": []
  }
 ],
 "metadata": {
  "kernelspec": {
   "display_name": "Python 3 (ipykernel)",
   "language": "python",
   "name": "python3"
  },
  "language_info": {
   "codemirror_mode": {
    "name": "ipython",
    "version": 3
   },
   "file_extension": ".py",
   "mimetype": "text/x-python",
   "name": "python",
   "nbconvert_exporter": "python",
   "pygments_lexer": "ipython3",
   "version": "3.11.3"
  }
 },
 "nbformat": 4,
 "nbformat_minor": 5
}
