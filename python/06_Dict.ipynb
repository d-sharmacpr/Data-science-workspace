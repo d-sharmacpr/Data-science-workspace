{
 "cells": [
  {
   "cell_type": "markdown",
   "id": "ad35270e",
   "metadata": {},
   "source": [
    "# Dictioinary"
   ]
  },
  {
   "cell_type": "code",
   "execution_count": 2,
   "id": "be362774",
   "metadata": {},
   "outputs": [],
   "source": [
    "# If we want to represent a group of objects as key-value pairs then we should go for\n",
    "# Dictionary.\n",
    "# 1.Duplicate keys are not allowed but values can be duplicated.\n",
    "# 2.Hetrogeneous objects are allowed for both key and values.\n",
    "# 3.insertion order is not preserved\n",
    "# 4.Dictionaries are mutable\n",
    "# 5.Dictionaries are dynamic\n",
    "# 6.indexing and slicing concepts are not applicable"
   ]
  },
  {
   "cell_type": "code",
   "execution_count": null,
   "id": "63f783ef",
   "metadata": {},
   "outputs": [],
   "source": []
  }
 ],
 "metadata": {
  "kernelspec": {
   "display_name": "Python 3 (ipykernel)",
   "language": "python",
   "name": "python3"
  },
  "language_info": {
   "codemirror_mode": {
    "name": "ipython",
    "version": 3
   },
   "file_extension": ".py",
   "mimetype": "text/x-python",
   "name": "python",
   "nbconvert_exporter": "python",
   "pygments_lexer": "ipython3",
   "version": "3.10.0"
  }
 },
 "nbformat": 4,
 "nbformat_minor": 5
}
