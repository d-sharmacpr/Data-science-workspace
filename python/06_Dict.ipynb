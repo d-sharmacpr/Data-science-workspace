{
 "cells": [
  {
   "cell_type": "markdown",
   "id": "5697fb2d",
   "metadata": {},
   "source": [
    "# Dictionary"
   ]
  },
  {
   "cell_type": "code",
   "execution_count": 2,
   "id": "1e7c43c0",
   "metadata": {},
   "outputs": [],
   "source": [
    "# If we want to represent a group of objects as key-value pairs then we should go for\n",
    "# Dictionary.\n",
    "# 1.Duplicate keys are not allowed but values can be duplicated.\n",
    "# 2.Hetrogeneous objects are allowed for both key and values.\n",
    "# 3.insertion order is not preserved\n",
    "# 4.Dictionaries are mutable\n",
    "# 5.Dictionaries are dynamic\n",
    "# 6.indexing and slicing concepts are not applicable"
   ]
  },
  {
   "cell_type": "markdown",
   "id": "50963d6e",
   "metadata": {},
   "source": [
    "### How to create dict object"
   ]
  },
  {
   "cell_type": "code",
   "execution_count": 2,
   "id": "57034c8a",
   "metadata": {},
   "outputs": [
    {
     "name": "stdout",
     "output_type": "stream",
     "text": [
      "{101: 'dk sharma'}\n",
      "{'a': 101, 'b': 102}\n",
      "101\n"
     ]
    }
   ],
   "source": [
    "d = {}\n",
    "d[101]=\"dk sharma\"\n",
    "print(d)\n",
    "d = dict()\n",
    "d = {'a':101,'b':102}\n",
    "print(d)\n",
    "print(d['a'])\n",
    "\n"
   ]
  },
  {
   "cell_type": "markdown",
   "id": "2ad7ece5",
   "metadata": {},
   "source": [
    "### How to access "
   ]
  },
  {
   "cell_type": "code",
   "execution_count": 12,
   "id": "12756d4d",
   "metadata": {},
   "outputs": [
    {
     "name": "stdout",
     "output_type": "stream",
     "text": [
      "{'a': 101, 'b': 102, 999: 'sharma', 0: False}\n",
      "False\n",
      "hi\n",
      "102\n",
      "102\n"
     ]
    }
   ],
   "source": [
    "d = {'a':101,'b':102,999:'sharma',0:False}\n",
    "print(d)\n",
    "print(d[0])\n",
    "\n",
    "if 0.1 in d:\n",
    "    print('--')\n",
    "    print(d[0.0])\n",
    "else:\n",
    "    print('hi')\n",
    "    print(d['b'])\n",
    "\n",
    "print(d['b'])"
   ]
  },
  {
   "cell_type": "markdown",
   "id": "f74e3062",
   "metadata": {},
   "source": [
    "### Update and delete"
   ]
  },
  {
   "cell_type": "code",
   "execution_count": null,
   "id": "7717e537",
   "metadata": {},
   "outputs": [],
   "source": [
    "1. <dict>[<key>]=<value>\n",
    "2. del <dict>[<key] # to delete records on the specific key (all items)\n",
    "3. <dict>.clear()  # to remove all the elements\n",
    "4. del <dict>  # to delete the object\n"
   ]
  },
  {
   "cell_type": "code",
   "execution_count": 17,
   "id": "32fd51d6",
   "metadata": {},
   "outputs": [
    {
     "name": "stdout",
     "output_type": "stream",
     "text": [
      "{'a': 101, 'b': 102, 999: 'sharma', 0: False, 1: True}\n",
      "{'a': 101, 'b': 102, 0: False, 1: True}\n",
      "{}\n",
      "{101: 'dk sharma'}\n"
     ]
    },
    {
     "ename": "NameError",
     "evalue": "name 'd' is not defined",
     "output_type": "error",
     "traceback": [
      "\u001b[1;31m---------------------------------------------------------------------------\u001b[0m",
      "\u001b[1;31mNameError\u001b[0m                                 Traceback (most recent call last)",
      "\u001b[1;32m~\\AppData\\Local\\Temp/ipykernel_15752/1824840654.py\u001b[0m in \u001b[0;36m<module>\u001b[1;34m\u001b[0m\n\u001b[0;32m     13\u001b[0m \u001b[1;33m\u001b[0m\u001b[0m\n\u001b[0;32m     14\u001b[0m \u001b[1;32mdel\u001b[0m \u001b[0md\u001b[0m\u001b[1;33m\u001b[0m\u001b[1;33m\u001b[0m\u001b[0m\n\u001b[1;32m---> 15\u001b[1;33m \u001b[0mprint\u001b[0m\u001b[1;33m(\u001b[0m\u001b[0md\u001b[0m\u001b[1;33m)\u001b[0m\u001b[1;33m\u001b[0m\u001b[1;33m\u001b[0m\u001b[0m\n\u001b[0m",
      "\u001b[1;31mNameError\u001b[0m: name 'd' is not defined"
     ]
    }
   ],
   "source": [
    "d = {'a':101,'b':102,999:'sharma',0:False}\n",
    "d[1]=True\n",
    "print(d)\n",
    "\n",
    "del d[999]\n",
    "print(d)\n",
    "\n",
    "d.clear()\n",
    "print(d)\n",
    "\n",
    "d[101]='dk sharma'\n",
    "print(d)\n",
    "\n",
    "del d\n",
    "print(d)"
   ]
  },
  {
   "cell_type": "markdown",
   "id": "625b6450",
   "metadata": {},
   "source": [
    "### Function of the dictionary"
   ]
  },
  {
   "cell_type": "code",
   "execution_count": null,
   "id": "8ef1e39b",
   "metadata": {},
   "outputs": [],
   "source": [
    "1. dict()  # to create dict object\n",
    "2. len(<dict>) \n",
    "3. <dict>.clear()\n",
    "4. <dict>.get(<key>) # get value on the key\n",
    "5. <dict>.pop(<key>) # delete and return value\n",
    "6. <dict>.popitem(<key>)  # delete and return key-value pair\n",
    "7. <dict>.key() # return all key from dictionary\n",
    "8. <dict>.values() # return all value from the dictionary\n",
    "9. <dict>.items() # returns list of tuples \n",
    "10. <dict>.copy()  # to create a copy\n",
    "11. <dict>.setdefault(<key>,<value>) # return value if key is availabe else add the new items\n",
    "12. <dict_1>.update(<dict_2>)  #update all item in 2 with the help of 1\n"
   ]
  },
  {
   "cell_type": "code",
   "execution_count": 49,
   "id": "cc4f6047",
   "metadata": {},
   "outputs": [
    {
     "name": "stdout",
     "output_type": "stream",
     "text": [
      "{101, 102, 103, 'ram', 'dk', 'shyam'}\n",
      "<class 'set'>\n",
      "{101: 'shyam', 102: 'ram', 103: 'dk'}\n",
      "<class 'dict'>\n",
      "3\n",
      "{}\n",
      "{101: 'shyam', 102: 'ram', 103: 'sharma'}\n",
      "{101: 'shyam', 102: 'ram', 103: 'sharma', 104: 'sharma'}\n",
      "\n",
      "--get--\n",
      "sharma\n",
      "{101: 'shyam', 102: 'ram', 103: 'sharma', 104: 'sharma'}\n",
      "\n",
      "--pop--\n",
      "sharma\n",
      "{101: 'shyam', 102: 'ram', 104: 'sharma'}\n",
      "\n",
      "--popitem--\n",
      "(104, 'sharma')\n",
      "{101: 'shyam', 102: 'ram'}\n",
      "\n",
      "--key value--\n",
      "dict_keys([101, 102])\n",
      "dict_values(['shyam', 'ram'])\n",
      "{101: 'shyam', 102: 'ram'}\n",
      "d1 {101: 'nandan', 102: 'tiwari'}\n",
      "after update\n",
      "{101: 'shyam', 102: 'ram', 103: 'dk'}\n"
     ]
    }
   ],
   "source": [
    "\n",
    "d = {101, 'shyam', 102,'ram', 103,'dk'}\n",
    "print(d)\n",
    "print(type(d))\n",
    "\n",
    "d = dict([(101,\"shyam\"),(102,\"ram\"),(103,'dk')])\n",
    "print(d)\n",
    "print(type(d))\n",
    "\n",
    "print(len(d))\n",
    "d.clear()\n",
    "print(d)\n",
    "\n",
    "d = dict([(101,\"shyam\"),(102,\"ram\"),(103,'dk'),(103,'sharma')])\n",
    "print(d)\n",
    "d[104]='sharma'\n",
    "print(d)\n",
    "\n",
    "print('\\n--get--')\n",
    "print(d.get(103))\n",
    "print(d)\n",
    "\n",
    "print('\\n--pop--')\n",
    "print(d.pop(103))\n",
    "print(d)\n",
    "\n",
    "print('\\n--popitem--')\n",
    "print(d.popitem())\n",
    "print(d)\n",
    "\n",
    "print('\\n--key value--')\n",
    "print(d.keys())\n",
    "print(d.values())\n",
    "\n",
    "d1 = d.copy()\n",
    "d[103]='dk'\n",
    "print(d1)\n",
    "d1[101]='nandan'\n",
    "d1[102]='tiwari'\n",
    "print('d1',d1)\n",
    "\n",
    "print('after update')\n",
    "d1.update(d)\n",
    "print(d1)"
   ]
  },
  {
   "cell_type": "markdown",
   "id": "bf818541",
   "metadata": {},
   "source": [
    "### Comprehesion"
   ]
  },
  {
   "cell_type": "code",
   "execution_count": 54,
   "id": "c44cbbc1",
   "metadata": {},
   "outputs": [
    {
     "name": "stdout",
     "output_type": "stream",
     "text": [
      "{10: 100, 15: 225, 20: 400, 25: 625, 30: 900, 35: 1225, 40: 1600, 45: 2025, 50: 2500, 55: 3025, 60: 3600, 65: 4225, 70: 4900, 75: 5625, 80: 6400, 85: 7225, 90: 8100, 95: 9025}\n"
     ]
    }
   ],
   "source": [
    "d = {key:key*key for key in range(10,100,5)}\n",
    "print(d)"
   ]
  },
  {
   "cell_type": "code",
   "execution_count": null,
   "id": "448f3631",
   "metadata": {},
   "outputs": [],
   "source": []
  }
 ],
 "metadata": {
  "kernelspec": {
   "display_name": "Python 3 (ipykernel)",
   "language": "python",
   "name": "python3"
  },
  "language_info": {
   "codemirror_mode": {
    "name": "ipython",
    "version": 3
   },
   "file_extension": ".py",
   "mimetype": "text/x-python",
   "name": "python",
   "nbconvert_exporter": "python",
   "pygments_lexer": "ipython3",
   "version": "3.10.0"
  },
  "vscode": {
   "interpreter": {
    "hash": "3ec39360d04414d4189c4bc0ce3f221d0405a51083671bc36d36412664bc3f81"
   }
  }
 },
 "nbformat": 4,
 "nbformat_minor": 5
}
