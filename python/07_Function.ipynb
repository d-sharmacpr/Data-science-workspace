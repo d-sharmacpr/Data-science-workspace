{
 "cells": [
  {
   "cell_type": "markdown",
   "id": "5769f496",
   "metadata": {},
   "source": [
    "# Function"
   ]
  },
  {
   "cell_type": "code",
   "execution_count": 2,
   "id": "d10b8345",
   "metadata": {},
   "outputs": [
    {
     "name": "stdout",
     "output_type": "stream",
     "text": [
      "print(value, ..., sep=' ', end='\\n', file=sys.stdout, flush=False)\n",
      "\n",
      "Prints the values to a stream, or to sys.stdout by default.\n",
      "Optional keyword arguments:\n",
      "file:  a file-like object (stream); defaults to the current sys.stdout.\n",
      "sep:   string inserted between values, default a space.\n",
      "end:   string appended after the last value, default a newline.\n",
      "flush: whether to forcibly flush the stream.\n"
     ]
    }
   ],
   "source": [
    "print(print.__doc__)"
   ]
  },
  {
   "cell_type": "code",
   "execution_count": null,
   "id": "5fb40bf6",
   "metadata": {},
   "outputs": [],
   "source": [
    "def fun(<parm_1>='',<param_2>=None):\n",
    "    '''\n",
    "    Description:\n",
    "    Return the result based the passing parameters value.\n",
    "    \n",
    "    Arguments:\n",
    "    param_1: string value, default a space.\n",
    "    param_2: int value, default a None.\n",
    "    '''\n",
    "    <function body>\n",
    "    \n",
    "    return <value>\n",
    "\n",
    "# How to call\n",
    "res = fun(<arg_1>,<arg_2>)\n"
   ]
  },
  {
   "cell_type": "code",
   "execution_count": null,
   "id": "053a27bd",
   "metadata": {},
   "outputs": [],
   "source": []
  }
 ],
 "metadata": {
  "kernelspec": {
   "display_name": "Python 3 (ipykernel)",
   "language": "python",
   "name": "python3"
  },
  "language_info": {
   "codemirror_mode": {
    "name": "ipython",
    "version": 3
   },
   "file_extension": ".py",
   "mimetype": "text/x-python",
   "name": "python",
   "nbconvert_exporter": "python",
   "pygments_lexer": "ipython3",
   "version": "3.10.0"
  }
 },
 "nbformat": 4,
 "nbformat_minor": 5
}
