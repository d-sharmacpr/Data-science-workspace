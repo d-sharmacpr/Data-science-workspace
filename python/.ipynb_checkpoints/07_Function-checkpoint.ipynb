{
 "cells": [
  {
   "cell_type": "markdown",
   "id": "8f621035",
   "metadata": {},
   "source": [
    "# Function"
   ]
  },
  {
   "cell_type": "code",
   "execution_count": null,
   "id": "05f5be59",
   "metadata": {},
   "outputs": [],
   "source": [
    "def fun(<parm_1>='',<param_2>=None):\n",
    "    '''\n",
    "    Description:\n",
    "    Return the result based the passing parameters value.\n",
    "    \n",
    "    Arguments:\n",
    "    param_1: string value, default a space.\n",
    "    param_2: int value, default a None.\n",
    "    '''\n",
    "    <function body>\n",
    "    \n",
    "    return <value>\n",
    "\n",
    "# How to call\n",
    "res = fun(<arg_1>,<arg_2>)\n",
    "\n",
    "\n",
    "# If we don't mention the return value then it return the None\n",
    "# Function can return any number of values\n",
    "# https://pythontutor.com/render.html#mode=display"
   ]
  },
  {
   "cell_type": "code",
   "execution_count": null,
   "id": "6a40b84c",
   "metadata": {},
   "outputs": [],
   "source": []
  },
  {
   "cell_type": "code",
   "execution_count": 2,
   "id": "0f65fd23",
   "metadata": {},
   "outputs": [
    {
     "name": "stdout",
     "output_type": "stream",
     "text": [
      "print(value, ..., sep=' ', end='\\n', file=sys.stdout, flush=False)\n",
      "\n",
      "Prints the values to a stream, or to sys.stdout by default.\n",
      "Optional keyword arguments:\n",
      "file:  a file-like object (stream); defaults to the current sys.stdout.\n",
      "sep:   string inserted between values, default a space.\n",
      "end:   string appended after the last value, default a newline.\n",
      "flush: whether to forcibly flush the stream.\n"
     ]
    }
   ],
   "source": [
    "print(print.__doc__)\n",
    "\n"
   ]
  },
  {
   "cell_type": "code",
   "execution_count": 8,
   "id": "14c13425",
   "metadata": {},
   "outputs": [
    {
     "name": "stdout",
     "output_type": "stream",
     "text": [
      "kya kr rha hai be.. number bhejo\n",
      "Odd\n"
     ]
    }
   ],
   "source": [
    "# create a functin to add two numbers\n",
    "def is_even(num):\n",
    "    '''\n",
    "    This functin return if the given number is odd or even\n",
    "    input- any valid integer\n",
    "    output- odd/even\n",
    "    created on- 28july 2023\n",
    "    '''\n",
    "    if type(num)==int:\n",
    "        if num%2==0:\n",
    "            return 'Even'\n",
    "        else:\n",
    "            return 'Odd'\n",
    "    else:\n",
    "        return 'kya kr rha hai be.. number bhejo'\n",
    "    \n",
    "\n",
    "#calling of the function\n",
    "\n",
    "print(is_even('45fb'))\n",
    "print(is_even(45))"
   ]
  },
  {
   "cell_type": "markdown",
   "id": "a97e78c0",
   "metadata": {},
   "source": [
    "### Types of argument"
   ]
  },
  {
   "cell_type": "code",
   "execution_count": null,
   "id": "c478b1f6",
   "metadata": {},
   "outputs": [],
   "source": [
    "1. Positional argument\n",
    "2. Keyword argument\n",
    "3. Default argument\n",
    "4. variable length arguments"
   ]
  },
  {
   "cell_type": "code",
   "execution_count": 11,
   "id": "90692f38",
   "metadata": {},
   "outputs": [
    {
     "name": "stdout",
     "output_type": "stream",
     "text": [
      "Name: dk , Age: 24\n",
      "Name: Sukesh , Age: 23\n",
      "Name: Sukesh , Age: 23\n",
      "Name: Shyam , Age: 25\n",
      "------Default arg-----\n",
      "Name: dk , Age: 23\n",
      "Name: dk , Age: 25\n",
      "Name: xyz , Age: 23\n"
     ]
    }
   ],
   "source": [
    "\n",
    "#1. Positional Argument\n",
    "# we hve to pass argument to fucntino as their order\n",
    "\n",
    "def ageCal(name, dob):\n",
    "    curr_age = 2023-dob\n",
    "    return f'Name: {name} , Age: {curr_age}'\n",
    "    \n",
    "    \n",
    "print(ageCal('dk',1999))\n",
    "\n",
    "#2. Keyword Argument\n",
    "print(ageCal(dob=2000,name='Sukesh'))\n",
    "print(ageCal(name='Sukesh',dob=2000))\n",
    "\n",
    "##Note- We can use both positional and keyword arguments simultaneously. But first we have to\n",
    "# take positional arguments and then keyword arguments,otherwise we will get\n",
    "\n",
    "# print(ageCal(name='Shyam',1998)) #SyntaxError: positional argument follows keyword argument\n",
    "print(ageCal('Shyam',dob=1998))\n",
    "\n",
    "print('------Default arg-----')\n",
    "#3. Default Argument\n",
    "def ageCal(name='dk', dob=2000):\n",
    "    curr_age = 2023-dob\n",
    "    return f'Name: {name} , Age: {curr_age}'\n",
    "\n",
    "print(ageCal())\n",
    "print(ageCal(dob=1998))\n",
    "print(ageCal(name='xyz'))\n"
   ]
  },
  {
   "cell_type": "markdown",
   "id": "e8c130b1",
   "metadata": {},
   "source": [
    "###  *args and **kwargs"
   ]
  },
  {
   "cell_type": "code",
   "execution_count": 47,
   "id": "349556c3",
   "metadata": {},
   "outputs": [
    {
     "name": "stdout",
     "output_type": "stream",
     "text": [
      "Keywrods arg:  (90,)\n",
      "90\n",
      "Keywrods arg:  (90, 10, 34.4)\n",
      "30960.0\n",
      "account:  {'DK': 12000, 'Shyam': 23000}\n",
      "Name: DK , Balance: 12000\n",
      "Name: Shyam , Balance: 23000\n",
      "None\n",
      "account:  {'dk': 20000, 'shyam': 3000, 'saurav': 4098, 'rajan': 24994488.09}\n",
      "Name: dk , Balance: 20000\n",
      "Name: shyam , Balance: 3000\n",
      "Name: saurav , Balance: 4098\n",
      "Name: rajan , Balance: 24994488.09\n",
      "\n",
      "\n",
      " None\n"
     ]
    }
   ],
   "source": [
    "# *args\n",
    "# it allow us to pass a variable number of non-keyword arguments to a function\n",
    "#order of the arguments matter(normal -> *args -> **kwargs)\n",
    "\n",
    "\n",
    "def multiply(*kwargs):\n",
    "    product=1\n",
    "    for val in kwargs:\n",
    "        product = product*val\n",
    "    print('Keywrods arg: ',kwargs)\n",
    "    return product\n",
    "\n",
    "print(multiply(90))\n",
    "print(multiply(90,10,34.4))\n",
    "\n",
    "\n",
    "## **kwargs\n",
    "# it allow us to pass the any number of keywords argument (key value pair)\n",
    "\n",
    "def account(**account):\n",
    "    print('account: ',account)\n",
    "    for name,bal in account.items():\n",
    "        print(f'Name: {name} , Balance: {bal}')\n",
    "\n",
    "\n",
    "option = {\n",
    "    'dk' : 20000,\n",
    "    'shyam' : 3000,\n",
    "    'saurav' : 4098,\n",
    "    'rajan' : 24994488.09\n",
    "}\n",
    "\n",
    "print(account(DK=12000,Shyam=23000,))\n",
    "print('\\n\\n',account(**option))\n"
   ]
  },
  {
   "cell_type": "code",
   "execution_count": 53,
   "id": "adfd4a77",
   "metadata": {},
   "outputs": [
    {
     "name": "stdout",
     "output_type": "stream",
     "text": [
      "{'shyam': 2000, 'ram': 3000}\n",
      "{'dk': 4000, 'sm': 9000}\n",
      "account:  {'shyam': 2000, 'ram': 3000}\n",
      "Name: shyam , Balance: 2000\n",
      "Name: ram , Balance: 3000\n",
      "None\n"
     ]
    }
   ],
   "source": [
    "d = {'shyam':2000, 'ram': 3000}\n",
    "print(d)\n",
    "\n",
    "val = {'dk':4000,'sm':9000}\n",
    "print(val)\n",
    "print(account(**d))"
   ]
  },
  {
   "cell_type": "code",
   "execution_count": 33,
   "id": "c7e21963",
   "metadata": {},
   "outputs": [
    {
     "name": "stdout",
     "output_type": "stream",
     "text": [
      "first == Geeks\n",
      "mid == for\n",
      "last == Geeks\n"
     ]
    }
   ],
   "source": [
    "def myFun(arg1, **kwargs):\n",
    "\tfor key, value in kwargs.items():\n",
    "\t\tprint(\"%s == %s\" % (key, value))\n",
    "\n",
    "\n",
    "# Driver code\n",
    "myFun(\"Hi\", first='Geeks', mid='for', last='Geeks')\n"
   ]
  },
  {
   "cell_type": "code",
   "execution_count": 48,
   "id": "cca45744",
   "metadata": {},
   "outputs": [
    {
     "name": "stdout",
     "output_type": "stream",
     "text": [
      "arg1: dk\n",
      "arg2: sm\n",
      "arg3: rk\n",
      "None\n",
      "arg1: Geeks\n",
      "arg2: for\n",
      "arg3: Geeks\n"
     ]
    }
   ],
   "source": [
    "def myFun(arg1,arg2,arg3):\n",
    "    print(\"arg1:\", arg1)\n",
    "    print(\"arg2:\", arg2)\n",
    "    print(\"arg3:\", arg3)\n",
    "    \n",
    "args = ('dk','sm','rk')\n",
    "print(myFun(*args))\n",
    "\n",
    "kwargs = {\"arg1\": \"Geeks\", \"arg2\": \"for\", \"arg3\": \"Geeks\"}\n",
    "myFun(**kwargs)"
   ]
  },
  {
   "cell_type": "markdown",
   "id": "36fb360d",
   "metadata": {},
   "source": [
    "### Variable Scope"
   ]
  },
  {
   "cell_type": "code",
   "execution_count": 57,
   "id": "fb66962d",
   "metadata": {},
   "outputs": [
    {
     "name": "stdout",
     "output_type": "stream",
     "text": [
      "inner function\n",
      "5\n",
      "6\n",
      "end inner\n",
      "5\n"
     ]
    }
   ],
   "source": [
    "def myFun(y):\n",
    "    print('inner function')\n",
    "    print(x)\n",
    "    print(x+1)\n",
    "    print('end inner')\n",
    "    \n",
    "x = 5\n",
    "myFun(x)\n",
    "print(x)"
   ]
  },
  {
   "cell_type": "code",
   "execution_count": 59,
   "id": "6d85e48e",
   "metadata": {},
   "outputs": [
    {
     "name": "stdout",
     "output_type": "stream",
     "text": [
      "inner function\n",
      "5\n",
      "6\n",
      "end inner\n",
      "5\n"
     ]
    }
   ],
   "source": [
    "def myFun(y):\n",
    "    print('inner function')\n",
    "    x=5\n",
    "    print(x)\n",
    "    x = x+1\n",
    "    print(x)\n",
    "    print('end inner')\n",
    "    \n",
    "x = 5\n",
    "myFun(x)\n",
    "print(x)\n",
    "\n",
    "#https://pythontutor.com/render.html#mode=display"
   ]
  },
  {
   "cell_type": "code",
   "execution_count": 60,
   "id": "afb9f928",
   "metadata": {},
   "outputs": [
    {
     "name": "stdout",
     "output_type": "stream",
     "text": [
      "in f(x): x = 4\n",
      "in main program scope: z = 4\n",
      "in main program scope: x = 3\n"
     ]
    }
   ],
   "source": [
    "def f(x):\n",
    "   x = x + 1\n",
    "   print('in f(x): x =', x)\n",
    "   return x\n",
    "\n",
    "x = 3\n",
    "z = f(x)\n",
    "print('in main program scope: z =', z)\n",
    "print('in main program scope: x =', x)"
   ]
  },
  {
   "cell_type": "markdown",
   "id": "75d120a6",
   "metadata": {},
   "source": [
    "### Nested Function"
   ]
  },
  {
   "cell_type": "code",
   "execution_count": 67,
   "id": "978a98d0",
   "metadata": {},
   "outputs": [
    {
     "name": "stdout",
     "output_type": "stream",
     "text": [
      "inside function g\n",
      "inside function g\n",
      "inside function g\n",
      "inside function g\n",
      "inside function g\n",
      "inside function g\n",
      "inside function g\n",
      "inside function g\n",
      "inside function g\n"
     ]
    },
    {
     "ename": "SystemExit",
     "evalue": "",
     "output_type": "error",
     "traceback": [
      "An exception has occurred, use %tb to see the full traceback.\n",
      "\u001b[1;31mSystemExit\u001b[0m\n"
     ]
    },
    {
     "name": "stderr",
     "output_type": "stream",
     "text": [
      "C:\\Users\\dshar\\AppData\\Local\\Programs\\Python\\Python310\\lib\\site-packages\\IPython\\core\\interactiveshell.py:3465: UserWarning: To exit: use 'exit', 'quit', or Ctrl-D.\n",
      "  warn(\"To exit: use 'exit', 'quit', or Ctrl-D.\", stacklevel=1)\n"
     ]
    }
   ],
   "source": [
    "import sys\n",
    "i = 1\n",
    "def f():\n",
    "  global i\n",
    "  i = i+1\n",
    "  def g():\n",
    "    print('inside function g')\n",
    "    if i==10:\n",
    "        sys.exit()\n",
    "    else:\n",
    "        f()\n",
    "  g()\n",
    "  print('inside function f')\n",
    "    \n",
    "f()"
   ]
  },
  {
   "cell_type": "code",
   "execution_count": 72,
   "id": "0c4676bf",
   "metadata": {},
   "outputs": [
    {
     "name": "stdout",
     "output_type": "stream",
     "text": [
      "10\n",
      "None\n",
      "12\n",
      "----\n",
      "1694520229408\n",
      "10\n",
      "None\n",
      "1694520229408\n",
      "<function myFun at 0x0000018A8946BE20>\n",
      "10\n",
      "None\n"
     ]
    },
    {
     "ename": "NameError",
     "evalue": "name 'myFun' is not defined",
     "output_type": "error",
     "traceback": [
      "\u001b[1;31m---------------------------------------------------------------------------\u001b[0m",
      "\u001b[1;31mNameError\u001b[0m                                 Traceback (most recent call last)",
      "\u001b[1;32m~\\AppData\\Local\\Temp/ipykernel_6712/2103623853.py\u001b[0m in \u001b[0;36m<module>\u001b[1;34m\u001b[0m\n\u001b[0;32m     16\u001b[0m \u001b[0mprint\u001b[0m\u001b[1;33m(\u001b[0m\u001b[0mobj1\u001b[0m\u001b[1;33m)\u001b[0m\u001b[1;33m\u001b[0m\u001b[1;33m\u001b[0m\u001b[0m\n\u001b[0;32m     17\u001b[0m \u001b[0mprint\u001b[0m\u001b[1;33m(\u001b[0m\u001b[0mobj1\u001b[0m\u001b[1;33m(\u001b[0m\u001b[1;36m100\u001b[0m\u001b[1;33m)\u001b[0m\u001b[1;33m)\u001b[0m\u001b[1;33m\u001b[0m\u001b[1;33m\u001b[0m\u001b[0m\n\u001b[1;32m---> 18\u001b[1;33m \u001b[0mprint\u001b[0m\u001b[1;33m(\u001b[0m\u001b[0mmyFun\u001b[0m\u001b[1;33m)\u001b[0m\u001b[1;33m\u001b[0m\u001b[1;33m\u001b[0m\u001b[0m\n\u001b[0m",
      "\u001b[1;31mNameError\u001b[0m: name 'myFun' is not defined"
     ]
    }
   ],
   "source": [
    "def myFun(var):\n",
    "    var = 10\n",
    "    print(var)\n",
    "    \n",
    "var = 12\n",
    "print(myFun(var))\n",
    "print(var)\n",
    "print('----')\n",
    "print(id(myFun))\n",
    "obj1 = myFun\n",
    "print(obj1(var))\n",
    "print(id(obj1))\n",
    "\n",
    "del myFun\n",
    "\n",
    "print(obj1)\n",
    "print(obj1(100))\n",
    "print(myFun)\n"
   ]
  },
  {
   "cell_type": "code",
   "execution_count": 76,
   "id": "5c7df75e",
   "metadata": {},
   "outputs": [
    {
     "name": "stdout",
     "output_type": "stream",
     "text": [
      "10\n",
      "None\n"
     ]
    },
    {
     "ename": "NameError",
     "evalue": "name 'myFun' is not defined",
     "output_type": "error",
     "traceback": [
      "\u001b[1;31m---------------------------------------------------------------------------\u001b[0m",
      "\u001b[1;31mNameError\u001b[0m                                 Traceback (most recent call last)",
      "\u001b[1;32m~\\AppData\\Local\\Temp/ipykernel_6712/3261016378.py\u001b[0m in \u001b[0;36m<module>\u001b[1;34m\u001b[0m\n\u001b[0;32m      7\u001b[0m \u001b[0mobj\u001b[0m \u001b[1;33m=\u001b[0m \u001b[0mmyFun\u001b[0m\u001b[1;33m\u001b[0m\u001b[1;33m\u001b[0m\u001b[0m\n\u001b[0;32m      8\u001b[0m \u001b[1;32mdel\u001b[0m \u001b[0mmyFun\u001b[0m\u001b[1;33m\u001b[0m\u001b[1;33m\u001b[0m\u001b[0m\n\u001b[1;32m----> 9\u001b[1;33m \u001b[0mprint\u001b[0m\u001b[1;33m(\u001b[0m\u001b[0mmyFun\u001b[0m\u001b[1;33m(\u001b[0m\u001b[0mvar\u001b[0m\u001b[1;33m)\u001b[0m\u001b[1;33m)\u001b[0m\u001b[1;33m\u001b[0m\u001b[1;33m\u001b[0m\u001b[0m\n\u001b[0m\u001b[0;32m     10\u001b[0m \u001b[1;32mdel\u001b[0m \u001b[0mobj\u001b[0m\u001b[1;33m\u001b[0m\u001b[1;33m\u001b[0m\u001b[0m\n\u001b[0;32m     11\u001b[0m \u001b[0mprint\u001b[0m\u001b[1;33m(\u001b[0m\u001b[0mobj\u001b[0m\u001b[1;33m(\u001b[0m\u001b[0mvar\u001b[0m\u001b[1;33m)\u001b[0m\u001b[1;33m)\u001b[0m\u001b[1;33m\u001b[0m\u001b[1;33m\u001b[0m\u001b[0m\n",
      "\u001b[1;31mNameError\u001b[0m: name 'myFun' is not defined"
     ]
    }
   ],
   "source": [
    "# deleting referece variable of the function not \n",
    "# deleting function object \n",
    "\n",
    "def myFun(var):\n",
    "    var = 10\n",
    "    print(var)\n",
    "    \n",
    "var = 12\n",
    "print(myFun(var))\n",
    "obj = myFun\n",
    "del myFun\n",
    "print(myFun(var))\n",
    "del obj\n",
    "print(obj(var))"
   ]
  },
  {
   "cell_type": "code",
   "execution_count": null,
   "id": "1d10408a",
   "metadata": {},
   "outputs": [],
   "source": []
  }
 ],
 "metadata": {
  "kernelspec": {
   "display_name": "Python 3 (ipykernel)",
   "language": "python",
   "name": "python3"
  },
  "language_info": {
   "codemirror_mode": {
    "name": "ipython",
    "version": 3
   },
   "file_extension": ".py",
   "mimetype": "text/x-python",
   "name": "python",
   "nbconvert_exporter": "python",
   "pygments_lexer": "ipython3",
   "version": "3.10.0"
  }
 },
 "nbformat": 4,
 "nbformat_minor": 5
}
