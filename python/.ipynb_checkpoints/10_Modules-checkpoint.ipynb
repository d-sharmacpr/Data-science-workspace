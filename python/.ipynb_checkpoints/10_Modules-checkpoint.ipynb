{
 "cells": [
  {
   "cell_type": "code",
   "execution_count": 2,
   "id": "ac616a34",
   "metadata": {},
   "outputs": [
    {
     "name": "stderr",
     "output_type": "stream",
     "text": [
      "<>:1: SyntaxWarning: invalid decimal literal\n",
      "<>:1: SyntaxWarning: invalid decimal literal\n",
      "C:\\Users\\dshar\\AppData\\Local\\Temp\\ipykernel_16156\\3236269221.py:1: SyntaxWarning: invalid decimal literal\n",
      "  234.isdigit()\n"
     ]
    },
    {
     "ename": "SyntaxError",
     "evalue": "invalid syntax (3236269221.py, line 1)",
     "output_type": "error",
     "traceback": [
      "\u001b[1;36m  Cell \u001b[1;32mIn[2], line 1\u001b[1;36m\u001b[0m\n\u001b[1;33m    234.isdigit()\u001b[0m\n\u001b[1;37m        ^\u001b[0m\n\u001b[1;31mSyntaxError\u001b[0m\u001b[1;31m:\u001b[0m invalid syntax\n"
     ]
    }
   ],
   "source": [
    "234.isdigit()"
   ]
  },
  {
   "cell_type": "code",
   "execution_count": 3,
   "id": "7a02a1d3",
   "metadata": {},
   "outputs": [
    {
     "data": {
      "text/plain": [
       "['In',\n",
       " 'Out',\n",
       " '_',\n",
       " '__',\n",
       " '___',\n",
       " '__builtin__',\n",
       " '__builtins__',\n",
       " '__doc__',\n",
       " '__loader__',\n",
       " '__name__',\n",
       " '__package__',\n",
       " '__spec__',\n",
       " '_dh',\n",
       " '_i',\n",
       " '_i1',\n",
       " '_i2',\n",
       " '_i3',\n",
       " '_ih',\n",
       " '_ii',\n",
       " '_iii',\n",
       " '_oh',\n",
       " 'add',\n",
       " 'exit',\n",
       " 'get_ipython',\n",
       " 'open',\n",
       " 'quit']"
      ]
     },
     "execution_count": 3,
     "metadata": {},
     "output_type": "execute_result"
    }
   ],
   "source": [
    "# find number of modules\n",
    "dir()"
   ]
  },
  {
   "cell_type": "code",
   "execution_count": 6,
   "id": "6963e904",
   "metadata": {},
   "outputs": [
    {
     "data": {
      "text/plain": [
       "'C:\\\\Users\\\\dshar\\\\Desktop\\\\workspace\\\\Data-science-workspace\\\\python'"
      ]
     },
     "execution_count": 6,
     "metadata": {},
     "output_type": "execute_result"
    }
   ],
   "source": [
    "import os\n",
    "os.getcwd()"
   ]
  },
  {
   "cell_type": "code",
   "execution_count": 1,
   "id": "b7677d96",
   "metadata": {},
   "outputs": [],
   "source": [
    "from module_pkg import dk_math"
   ]
  },
  {
   "cell_type": "code",
   "execution_count": 3,
   "id": "a4113bed",
   "metadata": {},
   "outputs": [
    {
     "name": "stdout",
     "output_type": "stream",
     "text": [
      "15\n"
     ]
    }
   ],
   "source": [
    "dk_math.add(7,8)"
   ]
  },
  {
   "cell_type": "code",
   "execution_count": 4,
   "id": "53c2a82a",
   "metadata": {},
   "outputs": [
    {
     "name": "stdout",
     "output_type": "stream",
     "text": [
      "4\n"
     ]
    }
   ],
   "source": [
    "dk_math.sub(34,30)"
   ]
  },
  {
   "cell_type": "code",
   "execution_count": null,
   "id": "4b805f16",
   "metadata": {},
   "outputs": [],
   "source": [
    "#############"
   ]
  },
  {
   "cell_type": "markdown",
   "id": "ab5b47fe",
   "metadata": {},
   "source": [
    "#### __name__"
   ]
  },
  {
   "cell_type": "code",
   "execution_count": 1,
   "id": "cec4b4d8",
   "metadata": {},
   "outputs": [
    {
     "name": "stdout",
     "output_type": "stream",
     "text": [
      "__main__\n",
      "to cehck whether code execute as program or module\n",
      "f1 __name__ = module_pkg.module1\n",
      "executed as module from other program\n",
      "f1 __name__ = module_pkg.module1\n",
      "executed as module from other program\n"
     ]
    }
   ],
   "source": [
    "# If the program executed as an individual program then the value of this variable is\n",
    "# __main__\n",
    "# If the program executed as a module from some other program then the value of this\n",
    "# variable is the name of module where it is defined.\n",
    "\n",
    "print(__name__)\n",
    "from module_pkg.module1 import *\n",
    "\n",
    "f1()"
   ]
  },
  {
   "cell_type": "markdown",
   "id": "59e00f64",
   "metadata": {},
   "source": [
    "### random module"
   ]
  },
  {
   "cell_type": "code",
   "execution_count": null,
   "id": "4402d358",
   "metadata": {},
   "outputs": [],
   "source": [
    "random()\n",
    "randint(num1,num2)\n",
    "uniform(num1,num2) # rturn random float\n",
    "randrange(start,stop,step)\n",
    "choice()   ## returns random obj from the gien list or tuple\n"
   ]
  },
  {
   "cell_type": "code",
   "execution_count": 17,
   "id": "c7eb47e4",
   "metadata": {},
   "outputs": [
    {
     "name": "stdout",
     "output_type": "stream",
     "text": [
      "0.6779947512575716\n",
      "6\n",
      "100.10853175858948\n",
      "0.12470150594411211\n",
      "3\n",
      "100.676940173088\n",
      "0.604871412481187\n",
      "0\n",
      "100.6092693290682\n",
      "---rnadrange--\n",
      "3\n",
      "---choice---\n",
      "baburam\n"
     ]
    }
   ],
   "source": [
    "from random import *\n",
    "\n",
    "for i in range(3):\n",
    "    print(random())\n",
    "    print(randint(0,9))\n",
    "    print(uniform(100,101))\n",
    "print('---rnadrange--')\n",
    "print(randrange(1,5,2))\n",
    "\n",
    "print('---choice---')\n",
    "l=['raju','shyam','baburam']\n",
    "print(choice(l))"
   ]
  },
  {
   "cell_type": "code",
   "execution_count": null,
   "id": "983585d2",
   "metadata": {},
   "outputs": [],
   "source": []
  }
 ],
 "metadata": {
  "kernelspec": {
   "display_name": "dk_krnl",
   "language": "python",
   "name": "dk_krnl"
  },
  "language_info": {
   "codemirror_mode": {
    "name": "ipython",
    "version": 3
   },
   "file_extension": ".py",
   "mimetype": "text/x-python",
   "name": "python",
   "nbconvert_exporter": "python",
   "pygments_lexer": "ipython3",
   "version": "3.11.5"
  }
 },
 "nbformat": 4,
 "nbformat_minor": 5
}
