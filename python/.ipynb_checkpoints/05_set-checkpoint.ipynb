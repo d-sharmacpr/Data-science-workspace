{
 "cells": [
  {
   "cell_type": "markdown",
   "id": "2051b34a",
   "metadata": {},
   "source": [
    "# Set"
   ]
  },
  {
   "cell_type": "raw",
   "id": "dae94ee6",
   "metadata": {},
   "source": [
    "If we want to represent a group of unique values as a single entity then we should go\n",
    "for set.\n",
    " Duplicates are not allowed.\n",
    " Insertion order is not preserved.But we can sort the elements.\n",
    " Indexing and slicing not allowed for the set.\n",
    " Heterogeneous elements are allowed.\n",
    " Set objects are mutable i.e once we creates set object we can perform any changes in\n",
    "that object based on our requirement.\n",
    " We can represent set elements within curly braces and with comma seperation\n",
    " We can apply mathematical operations like union,intersection,difference etc on set\n",
    "objects."
   ]
  },
  {
   "cell_type": "markdown",
   "id": "147d60f2",
   "metadata": {},
   "source": [
    "### How to create set object"
   ]
  },
  {
   "cell_type": "code",
   "execution_count": 5,
   "id": "35dd8e86",
   "metadata": {},
   "outputs": [
    {
     "name": "stdout",
     "output_type": "stream",
     "text": [
      "{1, 3, 4, 'dk ', 22}\n",
      "<class 'set'>\n",
      "{0, 1, 2, 3, 4, 5, 6, 7, 8, 9}\n"
     ]
    }
   ],
   "source": [
    "\n",
    "\n",
    "s ={1,22,3,4,'dk '}\n",
    "print(s)\n",
    "print(type(s))\n",
    "\n",
    "s = set(range(10))\n",
    "print(s)"
   ]
  },
  {
   "cell_type": "code",
   "execution_count": 31,
   "id": "833a9963",
   "metadata": {},
   "outputs": [
    {
     "name": "stdout",
     "output_type": "stream",
     "text": [
      "{'dk', 10, 20, True}\n"
     ]
    },
    {
     "ename": "TypeError",
     "evalue": "'set' object is not subscriptable",
     "output_type": "error",
     "traceback": [
      "\u001b[1;31m---------------------------------------------------------------------------\u001b[0m",
      "\u001b[1;31mTypeError\u001b[0m                                 Traceback (most recent call last)",
      "\u001b[1;32m~\\AppData\\Local\\Temp/ipykernel_3220/2305049176.py\u001b[0m in \u001b[0;36m<module>\u001b[1;34m\u001b[0m\n\u001b[0;32m      3\u001b[0m \u001b[0ms\u001b[0m \u001b[1;33m=\u001b[0m \u001b[1;33m{\u001b[0m\u001b[1;36m10\u001b[0m\u001b[1;33m,\u001b[0m\u001b[1;36m20\u001b[0m\u001b[1;33m,\u001b[0m\u001b[1;34m'dk'\u001b[0m\u001b[1;33m,\u001b[0m\u001b[1;32mTrue\u001b[0m\u001b[1;33m}\u001b[0m\u001b[1;33m\u001b[0m\u001b[1;33m\u001b[0m\u001b[0m\n\u001b[0;32m      4\u001b[0m \u001b[0mprint\u001b[0m\u001b[1;33m(\u001b[0m\u001b[0ms\u001b[0m\u001b[1;33m)\u001b[0m\u001b[1;33m\u001b[0m\u001b[1;33m\u001b[0m\u001b[0m\n\u001b[1;32m----> 5\u001b[1;33m \u001b[0mprint\u001b[0m\u001b[1;33m(\u001b[0m\u001b[0ms\u001b[0m\u001b[1;33m[\u001b[0m\u001b[1;36m2\u001b[0m\u001b[1;33m]\u001b[0m\u001b[1;33m)\u001b[0m\u001b[1;33m\u001b[0m\u001b[1;33m\u001b[0m\u001b[0m\n\u001b[0m\u001b[0;32m      6\u001b[0m \u001b[0mprint\u001b[0m\u001b[1;33m(\u001b[0m\u001b[0ms\u001b[0m\u001b[1;33m[\u001b[0m\u001b[1;36m1\u001b[0m\u001b[1;33m:\u001b[0m\u001b[1;36m3\u001b[0m\u001b[1;33m]\u001b[0m\u001b[1;33m)\u001b[0m\u001b[1;33m\u001b[0m\u001b[1;33m\u001b[0m\u001b[0m\n",
      "\u001b[1;31mTypeError\u001b[0m: 'set' object is not subscriptable"
     ]
    }
   ],
   "source": [
    "## Set doesn't support indexing and slicing \n",
    "\n",
    "s = {10,20,'dk',True}\n",
    "print(s)\n",
    "print(s[2])\n",
    "print(s[1:3])"
   ]
  },
  {
   "cell_type": "markdown",
   "id": "609715fb",
   "metadata": {},
   "source": [
    "### Function of set"
   ]
  },
  {
   "cell_type": "code",
   "execution_count": null,
   "id": "3e493591",
   "metadata": {},
   "outputs": [],
   "source": [
    "\n",
    "1. <set>.add(<item>)\n",
    "#Arguments are not individual elements and these are Iterable objects like List,range etc.\n",
    "2. <set>.update(<item_1>,<item_2>,<item_3>)\n",
    "3. <set>.copy()\n",
    "4. <set>.pop()\n",
    "5. <set>.remove() # If the specified element not present in the Set then we will get KeyError\n",
    "6. <set>.discard(<item>) # If the specified element not present in the Set then we will not get Error\n",
    "7. <set>.clear()\n",
    "\n"
   ]
  },
  {
   "cell_type": "code",
   "execution_count": 25,
   "id": "49c1ef6c",
   "metadata": {},
   "outputs": [
    {
     "name": "stdout",
     "output_type": "stream",
     "text": [
      "{False, 'dk', 4001, 20, 10, 30}\n",
      "{False, 'dk', 4001, 20, 10, 30}\n",
      "{False, 'dk', 4001, 20, 10, 30}\n",
      "{False, 'dk', 4001, 'kumar', 20, 10, 30}\n",
      "--update--\n",
      "{False, 10, 20, 30, 'dk', 4001, 101, 102, 'kumar'}\n",
      "\n",
      "{False, 1, 2, 3, 4, 10, 11, 12, 20, 30, 'dk', 4001, 101, 102, 'kumar'}\n",
      "\n",
      "--copy--\n",
      "{False, 1, 2, 3, 4, 'dk', 4001, 101, 102, 10, 11, 12, 'kumar', 20, 30}\n",
      "1420684950688\n",
      "1420682842784\n",
      "\n",
      "--pop--\n",
      "False\n",
      "1\n",
      "{2, 3, 4, 10, 11, 12, 20, 30, 'dk', 4001, 101, 102, 'kumar'}\n",
      "\n",
      " --remove---\n",
      "{2, 3, 4, 10, 11, 12, 20, 30, 'dk', 4001, 101, 102}\n",
      "\n",
      "--discard\n",
      "{2, 3, 4, 10, 11, 12, 20, 30, 'dk', 4001, 101, 102}\n",
      "{2, 3, 4, 10, 11, 12, 20, 30, 4001, 101, 102}\n",
      "\n",
      " -- clear --\n",
      "set()\n",
      "{'dk'}\n"
     ]
    }
   ],
   "source": [
    "#Example\n",
    "s = {10,20,20,20,30,'dk',4001,False}\n",
    "print(s)\n",
    "\n",
    "s.add(4001)\n",
    "print(s)\n",
    "s.add('dk')\n",
    "print(s)\n",
    "s.add('kumar')\n",
    "print(s)\n",
    "\n",
    "print('--update--')\n",
    "s.update((101,102))\n",
    "print(s)\n",
    "s.update(range(5))\n",
    "print()\n",
    "\n",
    "l =[10,10,11,12]\n",
    "s.update(l)\n",
    "print(s)\n",
    "\n",
    "print('\\n--copy--')\n",
    "s1 = s.copy()\n",
    "print(s1)\n",
    "print(id(s))\n",
    "print(id(s1))\n",
    "\n",
    "print('\\n--pop--')\n",
    "print(s.pop())\n",
    "print(s.pop())\n",
    "print(s)\n",
    "\n",
    "print('\\n --remove---')\n",
    "s.remove('kumar')\n",
    "print(s)\n",
    "\n",
    "print('\\n--discard')\n",
    "s.discard('kumar kumar')\n",
    "print(s)\n",
    "s.discard('dk')\n",
    "print(s)\n",
    "\n",
    "print('\\n -- clear --')\n",
    "s.clear()\n",
    "print(s)\n",
    "\n",
    "s.add('dk')\n",
    "print(s)"
   ]
  },
  {
   "cell_type": "markdown",
   "id": "83f0e9f0",
   "metadata": {},
   "source": [
    "### Mathematical Operations"
   ]
  },
  {
   "cell_type": "code",
   "execution_count": null,
   "id": "65096df4",
   "metadata": {},
   "outputs": [],
   "source": [
    "## Mathematical Operations\n",
    "\n",
    "1. <set_1>.union(<set_2>) # return all elements\n",
    "2. <set_1>.intersection(<set_2>) # return comman elements\n",
    "3. <set_1>.difference(<set_2>) # return set_1 ele that is not available in set_2\n",
    "4. <set_1>.symmetric_difference(<set_2>) #return uncommand element\n",
    "\n",
    "## Membership Operator\n",
    "\n",
    "1. in \n",
    "2. not in\n"
   ]
  },
  {
   "cell_type": "code",
   "execution_count": 28,
   "id": "e2e13962",
   "metadata": {},
   "outputs": [
    {
     "name": "stdout",
     "output_type": "stream",
     "text": [
      "{1, 2, 3, 4, 5, 'dk', 6, 7, 8, 'kumar'}\n",
      "{4, 5}\n",
      "{'kumar', 1, 2, 3}\n",
      "{1, 2, 3, 6, 7, 8, 'dk', 'kumar'}\n",
      "\n",
      " -- membership --\n",
      "True\n",
      "False\n"
     ]
    }
   ],
   "source": [
    "# Example\n",
    "\n",
    "s1 = {1,2,3,4,5,'kumar'}\n",
    "s2 = {4,5,6,7,8,'dk'}\n",
    "\n",
    "print(s1.union(s2))\n",
    "print(s1.intersection(s2))\n",
    "print(s1.difference(s2))\n",
    "print(s1.symmetric_difference(s2))\n",
    "\n",
    "print('\\n -- membership --')\n",
    "print('dk' in s)\n",
    "print('dk' not in s)"
   ]
  },
  {
   "cell_type": "markdown",
   "id": "b7c89015",
   "metadata": {},
   "source": [
    "### Set Comprehesion"
   ]
  },
  {
   "cell_type": "code",
   "execution_count": null,
   "id": "7c346edf",
   "metadata": {},
   "outputs": [],
   "source": [
    "\n",
    "s = {item*item for item in range(100,105)}\n",
    "print(s)\n"
   ]
  }
 ],
 "metadata": {
  "kernelspec": {
   "display_name": "Python 3 (ipykernel)",
   "language": "python",
   "name": "python3"
  },
  "language_info": {
   "codemirror_mode": {
    "name": "ipython",
    "version": 3
   },
   "file_extension": ".py",
   "mimetype": "text/x-python",
   "name": "python",
   "nbconvert_exporter": "python",
   "pygments_lexer": "ipython3",
   "version": "3.10.0"
  }
 },
 "nbformat": 4,
 "nbformat_minor": 5
}
