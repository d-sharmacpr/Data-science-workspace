{
 "cells": [
  {
   "cell_type": "code",
   "execution_count": 14,
   "id": "187fcaf4",
   "metadata": {},
   "outputs": [
    {
     "name": "stdout",
     "output_type": "stream",
     "text": [
      "We can join/ a group of strings/(list or tuple) wrt /the /ngiven /seperator.\n",
      "    hellow \n",
      " How can I help u\n",
      "    \n",
      "['We ', ' join/ a group of strings/(list or tuple) wrt /the /ngiven /seperator.\\n    hellow \\n How ', ' I help u\\n    ']\n",
      "We \n",
      " join/ a group of strings/(list or tuple) wrt /the /ngiven /seperator.\n",
      "    hellow \n",
      " How \n",
      " I help u\n",
      "    \n",
      "---join--\n",
      "W+e+ +c+a+n+ +j+o+i+n+/+ +a+ +g+r+o+u+p+ +o+f+ +s+t+r+i+n+g+s+/+(+l+i+s+t+ +o+r+ +t+u+p+l+e+)+ +w+r+t+ +/+t+h+e+ +/+n+g+i+v+e+n+ +/+s+e+p+e+r+a+t+o+r+.+\n",
      "+ + + + +h+e+l+l+o+w+ +\n",
      "+ +H+o+w+ +c+a+n+ +I+ +h+e+l+p+ +u+\n",
      "+ + + + \n",
      "W\n",
      "e\n",
      " \n",
      "c\n",
      "a\n",
      "n\n",
      " \n",
      "j\n",
      "o\n",
      "i\n",
      "n\n",
      "/\n",
      " \n",
      "a\n",
      " \n",
      "g\n",
      "r\n",
      "o\n",
      "u\n",
      "p\n",
      " \n",
      "o\n",
      "f\n",
      " \n",
      "s\n",
      "t\n",
      "r\n",
      "i\n",
      "n\n",
      "g\n",
      "s\n",
      "/\n",
      "(\n",
      "l\n",
      "i\n",
      "s\n",
      "t\n",
      " \n",
      "o\n",
      "r\n",
      " \n",
      "t\n",
      "u\n",
      "p\n",
      "l\n",
      "e\n",
      ")\n",
      " \n",
      "w\n",
      "r\n",
      "t\n",
      " \n",
      "/\n",
      "t\n",
      "h\n",
      "e\n",
      " \n",
      "/\n",
      "n\n",
      "g\n",
      "i\n",
      "v\n",
      "e\n",
      "n\n",
      " \n",
      "/\n",
      "s\n",
      "e\n",
      "p\n",
      "e\n",
      "r\n",
      "a\n",
      "t\n",
      "o\n",
      "r\n",
      ".\n",
      "\n",
      "\n",
      " \n",
      " \n",
      " \n",
      " \n",
      "h\n",
      "e\n",
      "l\n",
      "l\n",
      "o\n",
      "w\n",
      " \n",
      "\n",
      "\n",
      " \n",
      "H\n",
      "o\n",
      "w\n",
      " \n",
      "c\n",
      "a\n",
      "n\n",
      " \n",
      "I\n",
      " \n",
      "h\n",
      "e\n",
      "l\n",
      "p\n",
      " \n",
      "u\n",
      "\n",
      "\n",
      " \n",
      " \n",
      " \n",
      " \n"
     ]
    }
   ],
   "source": [
    "s = \"\"\"We can join/ a group of strings/(list or tuple) wrt /the /ngiven /seperator.\n",
    "    hellow \\n How can I help u\n",
    "    \"\"\"\n",
    "print(s)\n",
    "\n",
    "sp = s.split(sep='can')\n",
    "print(sp)\n",
    "for s1 in sp:\n",
    "    print(s1)\n",
    "    \n",
    "    \n",
    "print('---join--')\n",
    "\n",
    "j = '+'.join(s)\n",
    "print(j)\n",
    "j = '\\n'.join(s)\n",
    "print(j)"
   ]
  },
  {
   "cell_type": "code",
   "execution_count": 22,
   "id": "a6a06f67",
   "metadata": {},
   "outputs": [
    {
     "name": "stdout",
     "output_type": "stream",
     "text": [
      "<built-in function print>\n",
      "C:\\Users\\dshar\n"
     ]
    }
   ],
   "source": [
    "import os\n",
    "from pathlib import Path\n",
    "path = os.path.join(str(Path.home()),'New')\n",
    "# path = Path.home()\n",
    "print(print)\n",
    "print(Path.home())\n"
   ]
  },
  {
   "cell_type": "code",
   "execution_count": 24,
   "id": "25060e71",
   "metadata": {},
   "outputs": [
    {
     "name": "stdout",
     "output_type": "stream",
     "text": [
      "Enter String: Hello\n",
      "Hello\n",
      "olleH\n"
     ]
    }
   ],
   "source": [
    "# Program to reverse internal content of the each word\n",
    "\n",
    "# input - Hello\n",
    "# output- olleH\n",
    "\n",
    "s = input('Enter String: ')\n",
    "print(s)\n",
    "print(s[-1::-1])\n"
   ]
  },
  {
   "cell_type": "code",
   "execution_count": 44,
   "id": "c758710b",
   "metadata": {},
   "outputs": [
    {
     "name": "stdout",
     "output_type": "stream",
     "text": [
      "Enter Sentence: Hello dk how are you\n",
      "Hello dk how are you\n",
      "uoy era woh kd olleH \n",
      "\n",
      "you are how dk Hello "
     ]
    }
   ],
   "source": [
    "\n",
    "#input- Hello dk how are you\n",
    "#output- you are how dk Hello\n",
    "\n",
    "s = input(\"Enter Sentence: \")\n",
    "print(s)\n",
    "l = len(s)\n",
    "s = s.split()\n",
    "s.reverse()\n",
    "for word in s:\n",
    "    print(word[-1::-1],sep=' ',end=' ')\n",
    "\n",
    "print('\\n')\n",
    "for word in s:\n",
    "    print(word,sep=' ',end=' ')\n",
    "    "
   ]
  },
  {
   "cell_type": "code",
   "execution_count": 41,
   "id": "d3e4bf36",
   "metadata": {},
   "outputs": [
    {
     "name": "stdout",
     "output_type": "stream",
     "text": [
      "Enter Sentence: \n",
      "['Sentence:', 'Enter']\n"
     ]
    }
   ],
   "source": [
    "s = \"Enter Sentence: \"\n",
    "print(s)\n",
    "l = len(s)\n",
    "s = (s.split())\n",
    "s.reverse()\n",
    "print(s)"
   ]
  },
  {
   "cell_type": "code",
   "execution_count": 53,
   "id": "58d891dc",
   "metadata": {},
   "outputs": [
    {
     "name": "stdout",
     "output_type": "stream",
     "text": [
      "ABD134\n"
     ]
    }
   ],
   "source": [
    "#Q6. Write a program to sort the characters of the string and first alphabet symbols\n",
    "# followed by numeric values\n",
    "# input: B4A1D3\n",
    "# Output: ABD134\n",
    "\n",
    "s = 'B4A1D3'\n",
    "n_str=n_dig=''\n",
    "for w in s:\n",
    "#     print(w)\n",
    "    if w.isalpha():\n",
    "        n_str = n_str+w\n",
    "    else:\n",
    "        n_dig = n_dig+w\n",
    "\n",
    "# print(sorted(n_str))\n",
    "print( ''.join(sorted(n_str)) + ''.join(sorted(n_dig)))\n"
   ]
  },
  {
   "cell_type": "code",
   "execution_count": null,
   "id": "88a533dd",
   "metadata": {},
   "outputs": [],
   "source": []
  }
 ],
 "metadata": {
  "kernelspec": {
   "display_name": "Python 3 (ipykernel)",
   "language": "python",
   "name": "python3"
  },
  "language_info": {
   "codemirror_mode": {
    "name": "ipython",
    "version": 3
   },
   "file_extension": ".py",
   "mimetype": "text/x-python",
   "name": "python",
   "nbconvert_exporter": "python",
   "pygments_lexer": "ipython3",
   "version": "3.10.0"
  }
 },
 "nbformat": 4,
 "nbformat_minor": 5
}
