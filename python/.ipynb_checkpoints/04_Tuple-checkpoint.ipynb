{
 "cells": [
  {
   "cell_type": "markdown",
   "id": "9039bfc1",
   "metadata": {},
   "source": [
    "## Tuple"
   ]
  },
  {
   "cell_type": "code",
   "execution_count": 1,
   "id": "d017c44f",
   "metadata": {},
   "outputs": [],
   "source": [
    "# 1. Tuple is exactly same as List except that it is immutable. i.e once we creates Tuple\n",
    "# object,we cannot perform any changes in that object.\n",
    "# Hence Tuple is Read Only version of List.\n",
    "# 2. If our data is fixed and never changes then we should go for Tuple.\n",
    "# 3. Insertion Order is preserved\n",
    "# 4. Duplicates are allowed\n",
    "# 5. Heterogeneous objects are allowed.\n",
    "# 6. We can preserve insertion order and we can differentiate duplicate objects by using\n",
    "# index. Hence index will play very important role in Tuple also.\n",
    "# Tuple support both +ve and -ve index. +ve index means forward direction(from left to\n",
    "# right) and -ve index means backward direction(from right to left)\n",
    "# 7. We can represent Tuple elements within Parenthesis and with comma seperator.\n",
    "# Parenethesis are optional but recommended to use."
   ]
  },
  {
   "cell_type": "markdown",
   "id": "3df0c01e",
   "metadata": {},
   "source": [
    "### How to create tuple data type"
   ]
  },
  {
   "cell_type": "code",
   "execution_count": null,
   "id": "7538ad2a",
   "metadata": {},
   "outputs": [],
   "source": [
    "\n",
    "t = 10,\n",
    "print(type(t))\n",
    "\n",
    "# t = 10\n",
    "# type(t) --> str \n",
    "\n",
    "t = (10,20,30,40)\n",
    "print(t)\n",
    "print(type(t))\n",
    "\n",
    "list = [1,2,3]\n",
    "t = tuple(list)\n",
    "print(t)"
   ]
  },
  {
   "cell_type": "markdown",
   "id": "5877ad86",
   "metadata": {},
   "source": [
    "### How to access the elements"
   ]
  },
  {
   "cell_type": "code",
   "execution_count": 3,
   "id": "e8191d9d",
   "metadata": {},
   "outputs": [
    {
     "name": "stdout",
     "output_type": "stream",
     "text": [
      "(0, 1, 2, 3, 4, 5, 6, 7, 8, 9)\n",
      "9\n",
      "\n",
      " --slice--\n",
      "(0, 1, 2, 3, 4, 5, 6, 7, 8, 9)\n",
      "(1, 3, 5, 7, 9)\n",
      "(8, 9)\n"
     ]
    }
   ],
   "source": [
    "## Accessing elements\n",
    "# 1. By using index\n",
    "# 2. By using slice operator\n",
    "\n",
    "t = tuple(a for a in range(10))\n",
    "print(t)\n",
    "print(t[-1])\n",
    "\n",
    "print('\\n --slice--')\n",
    "print(t[:])\n",
    "print(t[1::2])\n",
    "print(t[-2::1])"
   ]
  },
  {
   "cell_type": "code",
   "execution_count": 23,
   "id": "e6fb04cd",
   "metadata": {},
   "outputs": [
    {
     "name": "stdout",
     "output_type": "stream",
     "text": [
      "(10, 20, 30, 'dk')\n"
     ]
    },
    {
     "ename": "TypeError",
     "evalue": "'tuple' object does not support item assignment",
     "output_type": "error",
     "traceback": [
      "\u001b[1;31m---------------------------------------------------------------------------\u001b[0m",
      "\u001b[1;31mTypeError\u001b[0m                                 Traceback (most recent call last)",
      "\u001b[1;32m~\\AppData\\Local\\Temp/ipykernel_10736/1074408644.py\u001b[0m in \u001b[0;36m<module>\u001b[1;34m\u001b[0m\n\u001b[0;32m      2\u001b[0m \u001b[0mprint\u001b[0m\u001b[1;33m(\u001b[0m\u001b[0mt\u001b[0m\u001b[1;33m)\u001b[0m\u001b[1;33m\u001b[0m\u001b[1;33m\u001b[0m\u001b[0m\n\u001b[0;32m      3\u001b[0m \u001b[1;33m\u001b[0m\u001b[0m\n\u001b[1;32m----> 4\u001b[1;33m \u001b[0mt\u001b[0m\u001b[1;33m[\u001b[0m\u001b[1;36m2\u001b[0m\u001b[1;33m]\u001b[0m\u001b[1;33m=\u001b[0m\u001b[1;34m'dkumar'\u001b[0m\u001b[1;33m\u001b[0m\u001b[1;33m\u001b[0m\u001b[0m\n\u001b[0m",
      "\u001b[1;31mTypeError\u001b[0m: 'tuple' object does not support item assignment"
     ]
    }
   ],
   "source": [
    "##We cann't add new data or update the existing data inside the tuple\n",
    "\n",
    "t = (10,20,30,'dk')\n",
    "print(t)\n",
    "\n",
    "t[2]='dkumar'"
   ]
  },
  {
   "cell_type": "markdown",
   "id": "341b8c87",
   "metadata": {},
   "source": [
    "### Mathematical Operation"
   ]
  },
  {
   "cell_type": "code",
   "execution_count": 26,
   "id": "a7f61ddb",
   "metadata": {},
   "outputs": [
    {
     "name": "stdout",
     "output_type": "stream",
     "text": [
      "(12, 'dk', False, 'kumar', 'dob', 1999)\n",
      "(12, 'dk', False, 'kumar', 12, 'dk', False, 'kumar', 12, 'dk', False, 'kumar')\n"
     ]
    },
    {
     "ename": "NameError",
     "evalue": "name 't1' is not defined",
     "output_type": "error",
     "traceback": [
      "\u001b[1;31m---------------------------------------------------------------------------\u001b[0m",
      "\u001b[1;31mNameError\u001b[0m                                 Traceback (most recent call last)",
      "\u001b[1;32m~\\AppData\\Local\\Temp/ipykernel_10736/561046656.py\u001b[0m in \u001b[0;36m<module>\u001b[1;34m\u001b[0m\n\u001b[0;32m     13\u001b[0m \u001b[1;33m\u001b[0m\u001b[0m\n\u001b[0;32m     14\u001b[0m \u001b[1;32mdel\u001b[0m \u001b[0mt1\u001b[0m\u001b[1;33m\u001b[0m\u001b[1;33m\u001b[0m\u001b[0m\n\u001b[1;32m---> 15\u001b[1;33m \u001b[0mprint\u001b[0m\u001b[1;33m(\u001b[0m\u001b[0mt1\u001b[0m\u001b[1;33m)\u001b[0m\u001b[1;33m\u001b[0m\u001b[1;33m\u001b[0m\u001b[0m\n\u001b[0m",
      "\u001b[1;31mNameError\u001b[0m: name 't1' is not defined"
     ]
    }
   ],
   "source": [
    "##Mathematical Operation on tuple\n",
    "# 1. concatination operator(+)\n",
    "# 2. repetition operator (*)\n",
    "\n",
    "t1 =(12,'dk',False,'kumar')\n",
    "t2 = ('dob',1999)\n",
    "\n",
    "print(t1+t2)\n",
    "print(t1*3)\n",
    "\n",
    "\n",
    "# delete the object\n",
    "\n",
    "del t1\n",
    "print(t1)"
   ]
  },
  {
   "cell_type": "markdown",
   "id": "8b91dcc9",
   "metadata": {},
   "source": [
    "### Function of the tuple"
   ]
  },
  {
   "cell_type": "code",
   "execution_count": null,
   "id": "f05d2fe6",
   "metadata": {},
   "outputs": [],
   "source": [
    "# Function\n",
    "\n",
    "1. len(<tuple>)\n",
    "2. <tuple>.count(<item>)\n",
    "3. <tuple>.index(<item>)\n",
    "4. sorted(<tuple>)\n",
    "5. min(<tuple>)\n",
    "6. max(<tuple>)\n",
    "\n",
    "## Compare the two tuples\n",
    "# If both are equal return -- 0\n",
    "# If t1<t2 then return     -- -1\n",
    "# if t2>t2  then return    -- -3\n",
    "7. cmp()  --> It is in python 2 only\n",
    "\n"
   ]
  },
  {
   "cell_type": "code",
   "execution_count": 34,
   "id": "207f8208",
   "metadata": {},
   "outputs": [
    {
     "name": "stdout",
     "output_type": "stream",
     "text": [
      "6\n",
      "2\n",
      "2\n",
      "[23, 5, 4, 1, 0.04, 0, 0]\n",
      "0\n"
     ]
    }
   ],
   "source": [
    "t = (10,20,'dk','garkha',841311,10)\n",
    "t2 = (1,23,4,0,5,0.04,00)\n",
    "print(len(t))\n",
    "print(t.count(10))\n",
    "print(t.index('dk'))\n",
    "print(sorted(t2,reverse=True))\n",
    "print(min(t2))"
   ]
  },
  {
   "cell_type": "code",
   "execution_count": 36,
   "id": "4ec4584b",
   "metadata": {},
   "outputs": [
    {
     "name": "stdout",
     "output_type": "stream",
     "text": [
      "<generator object <genexpr> at 0x000001671E6BAD50>\n"
     ]
    }
   ],
   "source": [
    "## Comprehension\n",
    "# It not supported in the tuple object\n",
    "t = (item for item in range(1,100,5) if item%2==0)\n",
    "print(t)"
   ]
  },
  {
   "cell_type": "code",
   "execution_count": null,
   "id": "eed83e91",
   "metadata": {},
   "outputs": [],
   "source": []
  }
 ],
 "metadata": {
  "kernelspec": {
   "display_name": "Python 3 (ipykernel)",
   "language": "python",
   "name": "python3"
  },
  "language_info": {
   "codemirror_mode": {
    "name": "ipython",
    "version": 3
   },
   "file_extension": ".py",
   "mimetype": "text/x-python",
   "name": "python",
   "nbconvert_exporter": "python",
   "pygments_lexer": "ipython3",
   "version": "3.10.0"
  }
 },
 "nbformat": 4,
 "nbformat_minor": 5
}
