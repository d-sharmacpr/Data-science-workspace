{
 "cells": [
  {
   "cell_type": "markdown",
   "id": "894678ca",
   "metadata": {},
   "source": [
    "# List"
   ]
  },
  {
   "cell_type": "code",
   "execution_count": null,
   "id": "3a01970b",
   "metadata": {},
   "outputs": [],
   "source": [
    "# If we want to represent a group of individual objects as a single entity where insertion\n",
    "# order preserved and duplicates are allowed, then we should go for List.\n",
    "# 1.insertion order preserved.\n",
    "# 2.duplicate objects are allowed\n",
    "# 3.heterogeneous objects are allowed.\n",
    "# 4.List is dynamic because based on our requirement we can increase the size and decrease\n",
    "# the size.\n",
    "# 5.In List the elements will be placed within square brackets and with comma seperator.\n",
    "# 6.We can differentiate duplicate elements by using index and we can preserve insertion\n",
    "# order by using index. Hence index will play very important role.\n",
    "# 7.Python supports both positive and negative indexes."
   ]
  },
  {
   "cell_type": "markdown",
   "id": "00c8b024",
   "metadata": {},
   "source": [
    "### How to create List object"
   ]
  },
  {
   "cell_type": "code",
   "execution_count": 3,
   "id": "962b31ac",
   "metadata": {},
   "outputs": [
    {
     "name": "stdout",
     "output_type": "stream",
     "text": [
      "Enter list:-['a','b','c']\n",
      "['a', 'b', 'c']\n",
      "[100, 101, 102, 103, 104, 105, 106, 107, 108, 109]\n",
      "['d', 'kumar', 'sharma']\n"
     ]
    },
    {
     "data": {
      "text/plain": [
       "list"
      ]
     },
     "execution_count": 3,
     "metadata": {},
     "output_type": "execute_result"
    }
   ],
   "source": [
    "#how to crate list object\n",
    "\n",
    "list1= eval(input('Enter list:-'))\n",
    "print(list1)\n",
    "\n",
    "l1= list(range(100,110,1))\n",
    "print(l1)\n",
    "type(l1)\n",
    "\n",
    "s = \"d kumar sharma\"\n",
    "l = s.split()\n",
    "print(l)\n",
    "type(l)"
   ]
  },
  {
   "cell_type": "code",
   "execution_count": 2,
   "id": "8a6a7996",
   "metadata": {},
   "outputs": [
    {
     "name": "stdout",
     "output_type": "stream",
     "text": [
      "[0, 1, 2, 3, 4, 5, 6, 7, 8, 9]\n",
      "[range(0, 12)]\n",
      "<class 'list'>\n"
     ]
    }
   ],
   "source": [
    "l=[*range(0,10)]\n",
    "print(l)\n",
    "\n",
    "l2 = [range(0,12)]\n",
    "print(l2)\n",
    "print(type(l2))"
   ]
  },
  {
   "cell_type": "markdown",
   "id": "6d49a7f6",
   "metadata": {},
   "source": [
    "### Comprehession"
   ]
  },
  {
   "cell_type": "code",
   "execution_count": 10,
   "id": "c2bc6b31",
   "metadata": {},
   "outputs": [
    {
     "name": "stdout",
     "output_type": "stream",
     "text": [
      "[0, 1, 2, 3, 4, 5, 6, 7, 8, 9]\n",
      "[1, 3, 5, 7, 9, 11, 13, 15, 17, 19, 21, 23, 25, 27, 29, 31, 33, 35, 37, 39, 41, 43, 45, 47, 49, 51, 53, 55, 57, 59, 61, 63, 65, 67, 69, 71, 73, 75, 77, 79, 81, 83, 85, 87, 89, 91, 93, 95, 97, 99]\n",
      "[2, 3, 4, 5, 6, 7, 8, 9, 10, 11, 12, 13, 14, 15, 16, 17, 18, 19, 20, 21, 22, 23, 24, 25, 26, 27, 28, 29, 30, 31, 32, 33, 34, 35, 36, 37, 38, 39, 40, 41, 42, 43, 44, 45, 46, 47, 48, 49, 50, 51, 52, 53, 54, 55, 56, 57, 58, 59, 60, 61, 62, 63, 64, 65, 66, 67, 68, 69, 70, 71, 72, 73, 74, 75, 76, 77, 78, 79, 80, 81, 82, 83, 84, 85, 86, 87, 88, 89, 90, 91, 92, 93, 94, 95, 96, 97, 98, 99]\n"
     ]
    }
   ],
   "source": [
    "#creating list using list comprehession\n",
    "\n",
    "list = [i for i in range(10)]\n",
    "print(list)\n",
    "\n",
    "list1 = [var for var in range(1,100) if var%2]\n",
    "print(list1)\n",
    "\n",
    "list1 = [var for var in range(1,100) if var!=var%2]\n",
    "print(list1)"
   ]
  },
  {
   "cell_type": "markdown",
   "id": "06182f00",
   "metadata": {},
   "source": [
    "### Accessing elements of List"
   ]
  },
  {
   "cell_type": "code",
   "execution_count": 17,
   "id": "e0464303",
   "metadata": {},
   "outputs": [
    {
     "name": "stdout",
     "output_type": "stream",
     "text": [
      "123\n",
      "e\n",
      "slice\n",
      "['123']\n",
      "['e']\n",
      "---\n",
      "a\n",
      "b\n",
      "c\n",
      "d\n",
      "123\n",
      "e\n"
     ]
    }
   ],
   "source": [
    "#1. by using index\n",
    "#2. by using slice operator\n",
    "\n",
    "#1.\n",
    "l1= ['a','b','c','d','123','e']\n",
    "print(l1[4])\n",
    "print(l1[-1])\n",
    "\n",
    "#2.\n",
    "# list2 = list1[start:stop:step]\n",
    "print('slice')\n",
    "print(l1[4:5:])\n",
    "print(l1[-1:-2:-1])\n",
    "\n",
    "print('---')\n",
    "i=0\n",
    "while i<len(l1):\n",
    "    print(l1[i])\n",
    "    i = i+1\n",
    "    "
   ]
  },
  {
   "cell_type": "markdown",
   "id": "e6bd4120",
   "metadata": {},
   "source": [
    "List of Functions"
   ]
  },
  {
   "cell_type": "markdown",
   "id": "63acb313",
   "metadata": {},
   "source": [
    "### Function"
   ]
  },
  {
   "cell_type": "code",
   "execution_count": 2,
   "id": "32f7a5db",
   "metadata": {},
   "outputs": [],
   "source": [
    "1. len(<list>)  #return number of elements \n",
    "2. <list>.count(<item>)  #return number of occurrence of specified item in the list\n",
    "3. <list>.index(<item>) #return index of the first occurracne of the item\n",
    "4. min(<list>) #find minimum of the element from the list\n",
    "5. max(<list>) #find max of the element from the list\n",
    "6. sum(<list>) #sum of all element\n",
    "\n",
    "\n",
    "#adding element in list\n",
    "1. <list>.append(<item>) #add item at the end of the list\n",
    "2. <list>.insert(pos,ele) #add item at the specific index position\n",
    "3. <list_1>.extend(<list_2>) #add 2nd list item to first list\n",
    "\n",
    "# deletion of the element\n",
    "1. <list>.pop() #remove and return last item of the list/ we can use this to del item using index also\n",
    "2. <list> del #delete the list object\n",
    "3. <list>.remove(<item>) #remove first item based on the specific item\n",
    "\n",
    "#sort and reverse\n",
    "1. <list>.sort()\n",
    "2. <list>.sort(reverse=True)\n",
    "\n",
    "\n",
    "# to clear all the element of list\n",
    "1. <list>.clear()"
   ]
  },
  {
   "cell_type": "code",
   "execution_count": 12,
   "id": "829db9e6",
   "metadata": {},
   "outputs": [
    {
     "name": "stdout",
     "output_type": "stream",
     "text": [
      "9\n",
      "3\n",
      "3\n",
      "31\n",
      "1\n"
     ]
    }
   ],
   "source": [
    "list = [1,2,3,4,4,5,3,3,6]\n",
    "\n",
    "print(len(list))\n",
    "print(list.count(3))\n",
    "print(list.index(4))\n",
    "print(sum(list))\n",
    "print(min(list))"
   ]
  },
  {
   "cell_type": "code",
   "execution_count": 18,
   "id": "14590972",
   "metadata": {},
   "outputs": [
    {
     "name": "stdout",
     "output_type": "stream",
     "text": [
      "[1, 2, 2, 3, 4, 5, 0]\n",
      "[1, 2, 3, 2, 3, 4, 5, 0]\n",
      "[1, 2, 3, 2, 3, 4, 5, 0, 11, 22, 0, 43]\n"
     ]
    }
   ],
   "source": [
    "l1 = [1,2,2,3,4,5]\n",
    "l2 = [11,22,0,43]\n",
    "\n",
    "l1.append(0)\n",
    "print(l1)\n",
    "\n",
    "l1.insert(2,3)\n",
    "print(l1)\n",
    "\n",
    "l1.extend(l2)\n",
    "print(l1)"
   ]
  },
  {
   "cell_type": "code",
   "execution_count": 19,
   "id": "7eea28c4",
   "metadata": {},
   "outputs": [
    {
     "name": "stdout",
     "output_type": "stream",
     "text": [
      "[1, 2, 3, 2, 3, 4, 5, 0, 11, 22, 0]\n"
     ]
    }
   ],
   "source": [
    "l1.pop()\n",
    "print(l1)"
   ]
  },
  {
   "cell_type": "code",
   "execution_count": 20,
   "id": "c59f7e7d",
   "metadata": {},
   "outputs": [
    {
     "name": "stdout",
     "output_type": "stream",
     "text": [
      "[1, 2, 3, 2, 3, 4, 5, 11, 22, 0]\n"
     ]
    }
   ],
   "source": [
    "l1.remove(0)\n",
    "print(l1)"
   ]
  },
  {
   "cell_type": "code",
   "execution_count": 21,
   "id": "297eef8e",
   "metadata": {},
   "outputs": [
    {
     "ename": "NameError",
     "evalue": "name 'l1' is not defined",
     "output_type": "error",
     "traceback": [
      "\u001b[1;31m---------------------------------------------------------------------------\u001b[0m",
      "\u001b[1;31mNameError\u001b[0m                                 Traceback (most recent call last)",
      "\u001b[1;32m~\\AppData\\Local\\Temp/ipykernel_12896/659096169.py\u001b[0m in \u001b[0;36m<module>\u001b[1;34m\u001b[0m\n\u001b[0;32m      1\u001b[0m \u001b[1;32mdel\u001b[0m \u001b[0ml1\u001b[0m\u001b[1;33m\u001b[0m\u001b[1;33m\u001b[0m\u001b[0m\n\u001b[1;32m----> 2\u001b[1;33m \u001b[0mprint\u001b[0m\u001b[1;33m(\u001b[0m\u001b[0ml1\u001b[0m\u001b[1;33m)\u001b[0m\u001b[1;33m\u001b[0m\u001b[1;33m\u001b[0m\u001b[0m\n\u001b[0m",
      "\u001b[1;31mNameError\u001b[0m: name 'l1' is not defined"
     ]
    }
   ],
   "source": [
    "del l1\n",
    "print(l1)"
   ]
  },
  {
   "cell_type": "code",
   "execution_count": 23,
   "id": "722e4702",
   "metadata": {},
   "outputs": [
    {
     "name": "stdout",
     "output_type": "stream",
     "text": [
      "[1, 2, 3, 2, 3, 4, 5, 0, 11, 22, 0, 43]\n",
      "[0, 0, 1, 2, 2, 3, 3, 4, 5, 11, 22, 43]\n",
      "[43, 22, 11, 5, 4, 3, 3, 2, 2, 1, 0, 0]\n"
     ]
    }
   ],
   "source": [
    "l11 = [1, 2, 3, 2, 3, 4, 5, 0, 11, 22, 0, 43]\n",
    "print(l11)\n",
    "\n",
    "l11.sort()\n",
    "print(l11)\n",
    "l11.sort(reverse=True)\n",
    "print(l11)"
   ]
  },
  {
   "cell_type": "markdown",
   "id": "e3fe0c52",
   "metadata": {},
   "source": [
    "### Aliasing and Cloning"
   ]
  },
  {
   "cell_type": "code",
   "execution_count": 24,
   "id": "97847959",
   "metadata": {},
   "outputs": [
    {
     "name": "stdout",
     "output_type": "stream",
     "text": [
      "1648817979136\n",
      "1648817979136\n",
      "[1, 2, 3, 4, 11]\n",
      "1648817979136\n",
      "[1, 2, 3, 4, 11]\n",
      "1648817979136\n"
     ]
    }
   ],
   "source": [
    "#Aliasing and cloning of the list object\n",
    "# Aliasing points the the same reference of variable\n",
    "# cloning creates the new object\n",
    "\n",
    "list1 =[1,2,3,4]\n",
    "print(id(list1))\n",
    "\n",
    "list2 = list1\n",
    "print(id(list2))\n",
    "\n",
    "list2.append(11)\n",
    "print(list2)\n",
    "print(id(list2))\n",
    "\n",
    "print(list1)\n",
    "print(id(list1))\n",
    "\n",
    "#Note: assigning of the one variable to another variable/aliasing performs\n",
    "#      operation on the same object of the list\n",
    "\n"
   ]
  },
  {
   "cell_type": "code",
   "execution_count": 25,
   "id": "9f1261dd",
   "metadata": {},
   "outputs": [
    {
     "name": "stdout",
     "output_type": "stream",
     "text": [
      "1648818239424\n",
      "1648817929664\n",
      "[1, 2, 3, 4, 11]\n",
      "1648817929664\n",
      "[1, 2, 3, 4]\n",
      "1648818239424\n"
     ]
    }
   ],
   "source": [
    "# if we want to creae a anothe object of the list then we will go with copy() function\n",
    "#1. list.copy()\n",
    "\n",
    "list1 =[1,2,3,4]\n",
    "print(id(list1))\n",
    "\n",
    "list2 = list1.copy()\n",
    "print(id(list2))\n",
    "\n",
    "list2.append(11)\n",
    "print(list2)\n",
    "print(id(list2))\n",
    "\n",
    "print(list1)\n",
    "print(id(list1))"
   ]
  },
  {
   "cell_type": "markdown",
   "id": "829b72a0",
   "metadata": {},
   "source": [
    "### Mathematical Operation"
   ]
  },
  {
   "cell_type": "code",
   "execution_count": 28,
   "id": "86925a79",
   "metadata": {},
   "outputs": [
    {
     "name": "stdout",
     "output_type": "stream",
     "text": [
      "[1, 2, 3, 4, 11, 22, 33]\n",
      "[1, 2, 3, 4, 1, 2, 3, 4, 1, 2, 3, 4, 1, 2, 3, 4, 1, 2, 3, 4]\n"
     ]
    }
   ],
   "source": [
    "#1. Concatenation operator (+)\n",
    "#2. Repetition Operator (*)\n",
    "\n",
    "list = [1,2,3,4]\n",
    "list_t = [11,22,33]\n",
    "\n",
    "l = list+list_t\n",
    "print(l)\n",
    "\n",
    "l = list*5\n",
    "print(l)"
   ]
  },
  {
   "cell_type": "markdown",
   "id": "5b7cc476",
   "metadata": {},
   "source": [
    "### Membership "
   ]
  },
  {
   "cell_type": "code",
   "execution_count": 33,
   "id": "ddd7a398",
   "metadata": {},
   "outputs": [
    {
     "name": "stdout",
     "output_type": "stream",
     "text": [
      "True\n",
      "True\n",
      "[1, 2, 3, 4, 5]\n",
      "[]\n"
     ]
    }
   ],
   "source": [
    "## Membership operators\n",
    "# to check element inside the list\n",
    "# 1. in\n",
    "# 2. not in\n",
    "\n",
    "list =[1,2,3,4,5]\n",
    "print(5 in list)\n",
    "print(55 not in list)\n",
    "\n",
    "## clear() function \n",
    "# to remvoe all element of list\n",
    "\n",
    "print(list)\n",
    "list.clear()\n",
    "print(list)"
   ]
  },
  {
   "cell_type": "markdown",
   "id": "edfbbdfe",
   "metadata": {},
   "source": [
    "### Nested List"
   ]
  },
  {
   "cell_type": "code",
   "execution_count": 36,
   "id": "34ee44fb",
   "metadata": {},
   "outputs": [
    {
     "name": "stdout",
     "output_type": "stream",
     "text": [
      "[[1, 2, 3], [11, 22, 33], [123, 234, 345]]\n",
      "list- [1, 2, 3]\n",
      "1\n",
      "2\n",
      "3\n",
      "list- [11, 22, 33]\n",
      "11\n",
      "22\n",
      "33\n",
      "list- [123, 234, 345]\n",
      "123\n",
      "234\n",
      "345\n"
     ]
    }
   ],
   "source": [
    "##Nested List\n",
    "\n",
    "list_nes = [[1,2,3],[11,22,33],[123,234,345]]\n",
    "print(list_nes)\n",
    "\n",
    "for list in list_nes:\n",
    "    print('list-',list)\n",
    "    for l in list:\n",
    "        print(l)\n"
   ]
  },
  {
   "cell_type": "code",
   "execution_count": null,
   "id": "4acd75a2",
   "metadata": {},
   "outputs": [],
   "source": []
  }
 ],
 "metadata": {
  "kernelspec": {
   "display_name": "Python 3 (ipykernel)",
   "language": "python",
   "name": "python3"
  },
  "language_info": {
   "codemirror_mode": {
    "name": "ipython",
    "version": 3
   },
   "file_extension": ".py",
   "mimetype": "text/x-python",
   "name": "python",
   "nbconvert_exporter": "python",
   "pygments_lexer": "ipython3",
   "version": "3.10.0"
  }
 },
 "nbformat": 4,
 "nbformat_minor": 5
}
