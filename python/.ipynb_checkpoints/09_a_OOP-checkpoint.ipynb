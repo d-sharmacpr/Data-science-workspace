{
 "cells": [
  {
   "cell_type": "code",
   "execution_count": 7,
   "id": "7c5e705b",
   "metadata": {},
   "outputs": [
    {
     "name": "stdout",
     "output_type": "stream",
     "text": [
      "Name:  temp \n",
      "Roll No: 101 \n",
      "Marks: 346\n",
      "Lnjpit Marksheet\n",
      "Name:  Dharmendra \n",
      "Roll No: 101 \n",
      "Marks: 346\n"
     ]
    }
   ],
   "source": [
    "#Passing another ref variale to otehr class\n",
    "\n",
    "class University:\n",
    "    def __init__(self,roll,name,marks):\n",
    "        self.roll=roll\n",
    "        self.name=name\n",
    "        self.marks = marks\n",
    "        \n",
    "    def display(self):\n",
    "        print('Name: ',self.name,'\\nRoll No:',self.roll,'\\nMarks:',self.marks)\n",
    "        \n",
    "class College:\n",
    "    def result(obj):\n",
    "        obj.name='Dharmendra'\n",
    "        print(\"Lnjpit Marksheet\")\n",
    "        obj.display()\n",
    "        \n",
    "u = University(101,'temp',346)\n",
    "u.display()\n",
    "# c = College()\n",
    "# c.result(u)\n",
    "College.result(u)"
   ]
  },
  {
   "cell_type": "code",
   "execution_count": 8,
   "id": "12b15548",
   "metadata": {},
   "outputs": [],
   "source": [
    "#Inner classs"
   ]
  },
  {
   "cell_type": "code",
   "execution_count": 23,
   "id": "204bb64d",
   "metadata": {},
   "outputs": [
    {
     "name": "stdout",
     "output_type": "stream",
     "text": [
      "dk\n",
      "2--1\n",
      "<__main__.Human.BodyPart object at 0x0000020F985773A0>\n"
     ]
    }
   ],
   "source": [
    "class Human:\n",
    "    def __init__(self,name):\n",
    "        self.name=name\n",
    "        self.headpart = self.HeadPart()\n",
    "        self.bodypart = self.BodyPart()\n",
    "        \n",
    "    def display(self):\n",
    "        print(self.name)\n",
    "        print(self.headpart)\n",
    "        print(self.bodypart)\n",
    "        \n",
    "    class HeadPart:\n",
    "        def __init__(self):\n",
    "            self.eye=2\n",
    "            self.nose=1\n",
    "            \n",
    "        def __str__(self):\n",
    "            return str(self.eye)+'--'+str(self.nose)\n",
    "    \n",
    "    class BodyPart:\n",
    "        def __init__(self):\n",
    "            self.finger=10\n",
    "            self.heart=1\n",
    "\n",
    "h = Human('dk')\n",
    "h.display()"
   ]
  },
  {
   "cell_type": "markdown",
   "id": "a665829c",
   "metadata": {},
   "source": [
    "### hasattr(obj,name)"
   ]
  },
  {
   "cell_type": "code",
   "execution_count": 4,
   "id": "cd6a5bce",
   "metadata": {},
   "outputs": [
    {
     "name": "stdout",
     "output_type": "stream",
     "text": [
      "two legs\n",
      "4 leg\n"
     ]
    }
   ],
   "source": [
    "class Human:\n",
    "    def leg(self):\n",
    "        print('two legs')\n",
    "    def nose(self):\n",
    "        print('one')\n",
    "        \n",
    "class Animal:\n",
    "    def leg(self):\n",
    "        print('4 leg')\n",
    "        \n",
    "        \n",
    "def fun_t(obj):\n",
    "    if hasattr(obj,'leg'):\n",
    "        obj.leg()\n",
    "\n",
    "h = Human()\n",
    "fun_t(h)\n",
    "fun_t(Animal())"
   ]
  },
  {
   "cell_type": "markdown",
   "id": "2140acd4",
   "metadata": {},
   "source": [
    "### Operator Overloading\n"
   ]
  },
  {
   "cell_type": "code",
   "execution_count": 6,
   "id": "7dd2baf9",
   "metadata": {},
   "outputs": [
    {
     "name": "stdout",
     "output_type": "stream",
     "text": [
      "Sum of both book:  300\n"
     ]
    }
   ],
   "source": [
    "class Book:\n",
    "    def __init__(self,price):\n",
    "        self.price=price\n",
    "        \n",
    "    def __add__(self,other):\n",
    "        return self.price+other.price\n",
    "    \n",
    "b1 = Book(100)\n",
    "b2 = Book(200)\n",
    "\n",
    "\n",
    "print('Sum of both book: ',b1+b2)\n"
   ]
  },
  {
   "cell_type": "code",
   "execution_count": null,
   "id": "c7d4e95e",
   "metadata": {},
   "outputs": [],
   "source": [
    "+ ---> object.__add__(self,other)\n",
    "- ---> object.__sub__(self,other)\n",
    "* ---> object.__mul__(self,other)\n",
    "/ ---> object.__div__(self,other)\n",
    "// ---> object.__floordiv__(self,other)\n",
    "% ---> object.__mod__(self,other)\n",
    "** ---> object.__pow__(self,other)\n",
    "+= ---> object.__iadd__(self,other)\n",
    "-= ---> object.__isub__(self,other)\n",
    "*= ---> object.__imul__(self,other)\n",
    "/= ---> object.__idiv__(self,other)\n",
    "//= ---> object.__ifloordiv__(self,other)\n",
    "%= ---> object.__imod__(self,other)\n",
    "**= ---> object.__ipow__(self,other)\n",
    "< ---> object.__lt__(self,other)\n",
    "<= ---> object.__le__(self,other)\n",
    "> ---> object.__gt__(self,other)\n",
    ">= ---> object.__ge__(self,other)\n",
    "== ---> object.__eq__(self,other)\n",
    "!= ---> object.__ne__(self,other)"
   ]
  },
  {
   "cell_type": "markdown",
   "id": "8342cdff",
   "metadata": {},
   "source": [
    "### method overloding"
   ]
  },
  {
   "cell_type": "code",
   "execution_count": 7,
   "id": "2c85b835",
   "metadata": {},
   "outputs": [
    {
     "ename": "TypeError",
     "evalue": "Test.m1() missing 2 required positional arguments: 'num' and 'str1'",
     "output_type": "error",
     "traceback": [
      "\u001b[1;31m---------------------------------------------------------------------------\u001b[0m",
      "\u001b[1;31mTypeError\u001b[0m                                 Traceback (most recent call last)",
      "Cell \u001b[1;32mIn[7], line 14\u001b[0m\n\u001b[0;32m     11\u001b[0m         \u001b[38;5;28mprint\u001b[39m(\u001b[38;5;124m'\u001b[39m\u001b[38;5;124mString\u001b[39m\u001b[38;5;124m'\u001b[39m)\n\u001b[0;32m     13\u001b[0m t \u001b[38;5;241m=\u001b[39m Test()\n\u001b[1;32m---> 14\u001b[0m \u001b[43mt\u001b[49m\u001b[38;5;241;43m.\u001b[39;49m\u001b[43mm1\u001b[49m\u001b[43m(\u001b[49m\u001b[43m)\u001b[49m\n",
      "\u001b[1;31mTypeError\u001b[0m: Test.m1() missing 2 required positional arguments: 'num' and 'str1'"
     ]
    }
   ],
   "source": [
    "# Python Method overloading is not possible.\n",
    "# If we are trying to declare multiple methods with same name and different number of arguments\n",
    "# then Python will always consider only last method.\n",
    "\n",
    "class Test:\n",
    "    def m1(self):\n",
    "        print('A')\n",
    "    def m1(self,num):\n",
    "        print('1')\n",
    "    def m1(self,num,str1):\n",
    "        print('String')\n",
    "        \n",
    "t = Test()\n",
    "t.m1()"
   ]
  },
  {
   "cell_type": "code",
   "execution_count": 12,
   "id": "ff7ead46",
   "metadata": {},
   "outputs": [
    {
     "name": "stdout",
     "output_type": "stream",
     "text": [
      "number\n"
     ]
    }
   ],
   "source": [
    "# can handle\n",
    "# with default arguments or with variable number of argument methods.\n",
    "\n",
    "class Test:\n",
    "#     def m1(self):\n",
    "#         print('A')\n",
    "#     def m1(self,num=1):\n",
    "#         print('1')\n",
    "    def m1(self,num=None,str1=None):\n",
    "        if str1!=None:\n",
    "            print('all parameters')\n",
    "        else:\n",
    "            print('number')\n",
    "        \n",
    "t = Test()\n",
    "t.m1()"
   ]
  },
  {
   "cell_type": "code",
   "execution_count": 13,
   "id": "1df6df24",
   "metadata": {},
   "outputs": [],
   "source": [
    "## use of super()"
   ]
  },
  {
   "cell_type": "code",
   "execution_count": 18,
   "id": "294751c4",
   "metadata": {},
   "outputs": [
    {
     "name": "stdout",
     "output_type": "stream",
     "text": [
      "Employee:\n",
      "Name: Rajesh\n",
      "Age: 23\n"
     ]
    }
   ],
   "source": [
    "class Person:\n",
    "    def __init__(self,name,age):\n",
    "        self.name=name\n",
    "        self.age=age\n",
    "        \n",
    "class Employee(Person):\n",
    "    def display(self):\n",
    "        print('Employee:')\n",
    "        print('Name:',self.name)\n",
    "        print('Age:',self.age)\n",
    "    \n",
    "    \n",
    "e= Employee('Rajesh',23)\n",
    "e.display()"
   ]
  },
  {
   "cell_type": "code",
   "execution_count": 28,
   "id": "5f21f94a",
   "metadata": {},
   "outputs": [
    {
     "name": "stdout",
     "output_type": "stream",
     "text": [
      "Company Name: Accenture\n",
      "Employee:\n",
      "Name: Rajesh\n",
      "Age: 23\n",
      "Des: soft eng\n",
      "sal: 23000\n",
      "\n"
     ]
    }
   ],
   "source": [
    "class Person:\n",
    "    def __init__(self,name,age):\n",
    "        self.name=name\n",
    "        self.age=age\n",
    "        \n",
    "class Employee(Person):\n",
    "    com_name='Accenture'\n",
    "    def __init__(self,name,age,des,sal):\n",
    "        super().__init__(name,age)\n",
    "        self.des = des\n",
    "        self.sal = sal\n",
    "        self.add = 'Abc'\n",
    "        \n",
    "#     @staticmetod    \n",
    "    def display(self):\n",
    "        print('Company Name:',Employee.com_name)\n",
    "        print('Employee:')\n",
    "        print('Name:',self.name)\n",
    "        print('Age:',self.age)\n",
    "        print('Des:',self.des)\n",
    "        print('sal:',self.sal)\n",
    "        print('')\n",
    "    \n",
    "    \n",
    "e= Employee('Rajesh',23,'soft eng',23000)\n",
    "e.display()"
   ]
  },
  {
   "cell_type": "code",
   "execution_count": null,
   "id": "9dc09521",
   "metadata": {},
   "outputs": [],
   "source": []
  }
 ],
 "metadata": {
  "kernelspec": {
   "display_name": "Python 3 (ipykernel)",
   "language": "python",
   "name": "python3"
  },
  "language_info": {
   "codemirror_mode": {
    "name": "ipython",
    "version": 3
   },
   "file_extension": ".py",
   "mimetype": "text/x-python",
   "name": "python",
   "nbconvert_exporter": "python",
   "pygments_lexer": "ipython3",
   "version": "3.11.5"
  }
 },
 "nbformat": 4,
 "nbformat_minor": 5
}
