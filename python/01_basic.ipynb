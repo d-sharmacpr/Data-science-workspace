{
 "cells": [
  {
   "cell_type": "code",
   "execution_count": 2,
   "id": "b5306414",
   "metadata": {},
   "outputs": [
    {
     "name": "stdout",
     "output_type": "stream",
     "text": [
      "hello Im dk, how are u00Im fine\n",
      "\n"
     ]
    }
   ],
   "source": [
    "print('hello Im dk, how are u','Im fine',sep='00')\n",
    "print()"
   ]
  },
  {
   "cell_type": "code",
   "execution_count": null,
   "id": "790428e2",
   "metadata": {},
   "outputs": [],
   "source": [
    "#python inbuilt data types:\n",
    "1. int\n",
    "2. float\n",
    "3.complex\n",
    "4.bool\n",
    "5.str\n",
    "6.bytes\n",
    "7.bytearray\n",
    "8.range\n",
    "9.list\n",
    "10.tuple\n",
    "11.set\n",
    "12.frozenset  -- same as set and it is immutable\n",
    "13.dict\n",
    "14.None  "
   ]
  },
  {
   "cell_type": "code",
   "execution_count": 3,
   "id": "3aff0ff8",
   "metadata": {},
   "outputs": [
    {
     "name": "stdout",
     "output_type": "stream",
     "text": [
      "<class 'list'>\n",
      "<class 'bytes'>\n",
      "b'\\n\\x14\\x1e'\n",
      "10\n",
      "20\n",
      "30\n"
     ]
    }
   ],
   "source": [
    "# bytes vs bytearray\n",
    "\n",
    "# byte is just like a array but we cann't updat the element from the object\n",
    "\n",
    "l = [10,20,30]\n",
    "print(type(l))\n",
    "b = bytes(l)\n",
    "print(type(b))\n",
    "print(b)\n",
    "\n",
    "for i in b:\n",
    "    print(i)\n",
    "    \n",
    "b[]"
   ]
  },
  {
   "cell_type": "code",
   "execution_count": null,
   "id": "a5c4c9b6",
   "metadata": {},
   "outputs": [],
   "source": []
  }
 ],
 "metadata": {
  "kernelspec": {
   "display_name": "Python 3 (ipykernel)",
   "language": "python",
   "name": "python3"
  },
  "language_info": {
   "codemirror_mode": {
    "name": "ipython",
    "version": 3
   },
   "file_extension": ".py",
   "mimetype": "text/x-python",
   "name": "python",
   "nbconvert_exporter": "python",
   "pygments_lexer": "ipython3",
   "version": "3.11.5"
  }
 },
 "nbformat": 4,
 "nbformat_minor": 5
}
